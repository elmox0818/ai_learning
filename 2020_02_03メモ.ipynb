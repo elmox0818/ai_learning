{
  "nbformat": 4,
  "nbformat_minor": 0,
  "metadata": {
    "colab": {
      "name": "2020-02-03メモ.ipynb",
      "provenance": [],
      "authorship_tag": "ABX9TyN+b8qmvB8vGCVCVD8wr9Nn",
      "include_colab_link": true
    },
    "kernelspec": {
      "name": "python3",
      "display_name": "Python 3"
    }
  },
  "cells": [
    {
      "cell_type": "markdown",
      "metadata": {
        "id": "view-in-github",
        "colab_type": "text"
      },
      "source": [
        "<a href=\"https://colab.research.google.com/github/elmox0818/ai_learning/blob/master/2020_02_03%E3%83%A1%E3%83%A2.ipynb\" target=\"_parent\"><img src=\"https://colab.research.google.com/assets/colab-badge.svg\" alt=\"Open In Colab\"/></a>"
      ]
    },
    {
      "cell_type": "code",
      "metadata": {
        "id": "i6aMZS54k43b",
        "colab_type": "code",
        "colab": {}
      },
      "source": [
        ""
      ],
      "execution_count": 0,
      "outputs": []
    },
    {
      "cell_type": "markdown",
      "metadata": {
        "id": "-FhAC6Qtk51d",
        "colab_type": "text"
      },
      "source": [
        "# 正規分布\n",
        "\n",
        "## 平均値\n",
        "\n",
        "$$\n",
        "  \\mu = \\frac{x_1 + x_2 + \\cdots + x_n}{n}\n",
        "  = \\frac{1}{n}\\sum_{k=1}^{n} x_k\n",
        "$$\n"
      ]
    },
    {
      "cell_type": "code",
      "metadata": {
        "id": "ORODZM1plQwC",
        "colab_type": "code",
        "colab": {
          "base_uri": "https://localhost:8080/",
          "height": 34
        },
        "outputId": "f91edf3e-5a87-41ca-c3c1-9be7341a80a9"
      },
      "source": [
        "import numpy as np\n",
        "\n",
        "x = np.array([55,45,60,40])\n",
        "np.average(x)"
      ],
      "execution_count": 2,
      "outputs": [
        {
          "output_type": "execute_result",
          "data": {
            "text/plain": [
              "50.0"
            ]
          },
          "metadata": {
            "tags": []
          },
          "execution_count": 2
        }
      ]
    },
    {
      "cell_type": "markdown",
      "metadata": {
        "id": "SfO0P_uVmg4X",
        "colab_type": "text"
      },
      "source": [
        "## 分散\n",
        "\n",
        "$$\n",
        "  V = \\frac{1}{n}\\sum_{k=1}^{n}(x_k - \\mu)^2\n",
        "$$"
      ]
    },
    {
      "cell_type": "markdown",
      "metadata": {
        "id": "I-z4YygAmlpP",
        "colab_type": "text"
      },
      "source": [
        ""
      ]
    }
  ]
}