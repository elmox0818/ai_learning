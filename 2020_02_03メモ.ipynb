{
  "nbformat": 4,
  "nbformat_minor": 0,
  "metadata": {
    "colab": {
      "name": "2020-02-03メモ.ipynb",
      "provenance": [],
      "collapsed_sections": [],
      "authorship_tag": "ABX9TyNgH3OHZIoZz+0YSjr9ntBi",
      "include_colab_link": true
    },
    "kernelspec": {
      "name": "python3",
      "display_name": "Python 3"
    }
  },
  "cells": [
    {
      "cell_type": "markdown",
      "metadata": {
        "id": "view-in-github",
        "colab_type": "text"
      },
      "source": [
        "<a href=\"https://colab.research.google.com/github/elmox0818/ai_learning/blob/master/2020_02_03%E3%83%A1%E3%83%A2.ipynb\" target=\"_parent\"><img src=\"https://colab.research.google.com/assets/colab-badge.svg\" alt=\"Open In Colab\"/></a>"
      ]
    },
    {
      "cell_type": "code",
      "metadata": {
        "id": "i6aMZS54k43b",
        "colab_type": "code",
        "colab": {}
      },
      "source": [
        ""
      ],
      "execution_count": 0,
      "outputs": []
    },
    {
      "cell_type": "markdown",
      "metadata": {
        "id": "-FhAC6Qtk51d",
        "colab_type": "text"
      },
      "source": [
        "# 正規分布\n",
        "\n",
        "## 平均値\n",
        "\n",
        "$$\n",
        "  \\mu = \\frac{x_1 + x_2 + \\cdots + x_n}{n}\n",
        "  = \\frac{1}{n}\\sum_{k=1}^{n} x_k\n",
        "$$\n"
      ]
    },
    {
      "cell_type": "code",
      "metadata": {
        "id": "ORODZM1plQwC",
        "colab_type": "code",
        "colab": {
          "base_uri": "https://localhost:8080/",
          "height": 34
        },
        "outputId": "f91edf3e-5a87-41ca-c3c1-9be7341a80a9"
      },
      "source": [
        "import numpy as np\n",
        "\n",
        "x = np.array([55,45,60,40])\n",
        "np.average(x)"
      ],
      "execution_count": 2,
      "outputs": [
        {
          "output_type": "execute_result",
          "data": {
            "text/plain": [
              "50.0"
            ]
          },
          "metadata": {
            "tags": []
          },
          "execution_count": 2
        }
      ]
    },
    {
      "cell_type": "markdown",
      "metadata": {
        "id": "SfO0P_uVmg4X",
        "colab_type": "text"
      },
      "source": [
        "## 分散\n",
        "\n",
        "値のばらつき具合を表す\n",
        "\n",
        "$$\n",
        "  V = \\frac{1}{n}\\sum_{k=1}^{n}(x_k - \\mu)^2\n",
        "$$"
      ]
    },
    {
      "cell_type": "code",
      "metadata": {
        "id": "b6vUo6cknmAs",
        "colab_type": "code",
        "colab": {
          "base_uri": "https://localhost:8080/",
          "height": 34
        },
        "outputId": "e2947aae-54f7-4adb-ddf7-bbb309061abe"
      },
      "source": [
        "import numpy as np\n",
        "\n",
        "x = np.array([55,45,60,40])\n",
        "np.var(x)"
      ],
      "execution_count": 3,
      "outputs": [
        {
          "output_type": "execute_result",
          "data": {
            "text/plain": [
              "62.5"
            ]
          },
          "metadata": {
            "tags": []
          },
          "execution_count": 3
        }
      ]
    },
    {
      "cell_type": "markdown",
      "metadata": {
        "id": "_6YoqzqNnvs8",
        "colab_type": "text"
      },
      "source": [
        "## 標準偏差\n",
        "\n",
        "値のばらつき具合、分散よりも直感的な数値を表す。\n",
        "\n",
        "$$\n",
        "  \\delta = \\sqrt{V} = \\sqrt{\\frac{1}{n}\\sum_{k=1}^{n}(x_k-\\mu)^2}\n",
        "$$\n",
        "\n",
        "\n",
        "\n",
        "> 確率密度関数 \n",
        ">横軸はある値を、縦軸は値の頻度や確率を表す。\n",
        ">μは平均値で分布中央、δは標準偏差で分布の広がり具合を表す。\n",
        "\n",
        "$$\n",
        "  y = \\frac{1}{\\delta\\sqrt{2\\pi}}\\exp(-\\frac{(x-\\mu)^2}{2\\delta^2})\n",
        "$$\n",
        "\n",
        "μ=0, δ=1とすると\n",
        "\n",
        "$$\n",
        "  y = \\frac{1}{\\sqrt{2\\pi}}\\exp(-\\frac{x^2}{2})\n",
        "$$\n",
        "\n"
      ]
    },
    {
      "cell_type": "code",
      "metadata": {
        "id": "jTfKiOmbntAU",
        "colab_type": "code",
        "colab": {
          "base_uri": "https://localhost:8080/",
          "height": 34
        },
        "outputId": "347ff13d-ec52-4eb9-c1ff-25c105b57882"
      },
      "source": [
        "import numpy as np\n",
        "\n",
        "x = np.array([55,45,60,40])\n",
        "np.std(x)"
      ],
      "execution_count": 4,
      "outputs": [
        {
          "output_type": "execute_result",
          "data": {
            "text/plain": [
              "7.905694150420948"
            ]
          },
          "metadata": {
            "tags": []
          },
          "execution_count": 4
        }
      ]
    },
    {
      "cell_type": "code",
      "metadata": {
        "id": "G4dKhW33o9lM",
        "colab_type": "code",
        "colab": {
          "base_uri": "https://localhost:8080/",
          "height": 265
        },
        "outputId": "6f93f8ba-2ed4-4605-cc25-c59803e5520a"
      },
      "source": [
        "import numpy as np\n",
        "import matplotlib.pyplot as plt\n",
        "\n",
        "sigma = 1 # 標準偏差\n",
        "mu = 0 # 平均値\n",
        "\n",
        "x = np.linspace(-5, 5)\n",
        "y = 1/(sigma*np.sqrt(2*np.pi))*np.exp(-(x-mu)**2 / (2*sigma**2)) # 確率密度関数\n",
        "\n",
        "plt.plot(x,y)\n",
        "plt.show()"
      ],
      "execution_count": 5,
      "outputs": [
        {
          "output_type": "display_data",
          "data": {
            "image/png": "[encoded data removed]",
            "text/plain": [
              "<Figure size 432x288 with 1 Axes>"
            ]
          },
          "metadata": {
            "tags": []
          }
        }
      ]
    },
    {
      "cell_type": "markdown",
      "metadata": {
        "id": "SzupPXMAtG3H",
        "colab_type": "text"
      },
      "source": [
        "# Pythonにおける正規表現\n",
        "\n",
        "## subによる置換\n",
        "\n",
        "re.subにより文字列の置換"
      ]
    },
    {
      "cell_type": "code",
      "metadata": {
        "id": "-HTf97w8p26S",
        "colab_type": "code",
        "colab": {
          "base_uri": "https://localhost:8080/",
          "height": 68
        },
        "outputId": "72eb9a88-3806-4566-b732-2b4ba28bb292"
      },
      "source": [
        "import re\n",
        "\n",
        "s = \"私は柴犬が好きです。\"\n",
        "\n",
        "# 単体置換\n",
        "s = re.sub(\"柴犬\", \"シャムネコ\", s)\n",
        "print(s)\n",
        "\n",
        "s = \"私は黒犬と白猫が好きです。\"\n",
        "\n",
        "# 複数置換\n",
        "s = re.sub(\"[犬猫]\", \"馬\", s)\n",
        "print(s)\n",
        "\n",
        "s = \"私は柴犬犬犬犬犬犬犬犬犬犬が好きです\"\n",
        "\n",
        "# 繰り返し\n",
        "s = re.sub(\"犬+\", \"犬\", s)\n",
        "print(s)"
      ],
      "execution_count": 10,
      "outputs": [
        {
          "output_type": "stream",
          "text": [
            "私はシャムネコが好きです。\n",
            "私は黒馬と白馬が好きです。\n",
            "私は柴犬が好きです\n"
          ],
          "name": "stdout"
        }
      ]
    },
    {
      "cell_type": "markdown",
      "metadata": {
        "id": "VT0DdG4fuZc-",
        "colab_type": "text"
      },
      "source": [
        "## ルビの除去\n",
        "\n",
        "【】などを除去する方法\n",
        "\n",
        "【^】]+の箇所で】以外の文字の繰り返しを意味する。\n",
        "【[^】]+】は【と】の間に】以外の文字が複数ある個所を表す。"
      ]
    },
    {
      "cell_type": "markdown",
      "metadata": {
        "id": "4XXcHziwtZMl",
        "colab_type": "text"
      },
      "source": [
        ""
      ]
    },
    {
      "cell_type": "code",
      "metadata": {
        "id": "ULLyZbXwtV6k",
        "colab_type": "code",
        "colab": {
          "base_uri": "https://localhost:8080/",
          "height": 51
        },
        "outputId": "7dff78ab-a95d-414b-d31c-d2ce36806f52"
      },
      "source": [
        "import re\n",
        "\n",
        "s = \"私は柴犬【しばいぬ】が好きです。\"\n",
        "\n",
        "s = re.sub(\"【[^】]+】\", \"\", s)\n",
        "print(s)\n",
        "\n",
        "s = \"白馬【はくば】に乗って、草原【そうげん】をかける\"\n",
        "s = re.sub(\"【[^】]+】\", \"\", s)\n",
        "print(s)"
      ],
      "execution_count": 12,
      "outputs": [
        {
          "output_type": "stream",
          "text": [
            "私は柴犬が好きです。\n",
            "白馬に乗って、草原をかける\n"
          ],
          "name": "stdout"
        }
      ]
    },
    {
      "cell_type": "markdown",
      "metadata": {
        "id": "EqyjmWqtvRIE",
        "colab_type": "text"
      },
      "source": [
        "# コーパスの前処理"
      ]
    },
    {
      "cell_type": "code",
      "metadata": {
        "id": "bStHZfBewDt-",
        "colab_type": "code",
        "colab": {
          "base_uri": "https://localhost:8080/",
          "height": 34
        },
        "outputId": "f46be3f3-3454-4cfa-f790-d22569e617ac"
      },
      "source": [
        "!ls nlp_bot/Section_6/"
      ],
      "execution_count": 27,
      "outputs": [
        {
          "output_type": "stream",
          "text": [
            "gingatetsudono_yoru.txt\n"
          ],
          "name": "stdout"
        }
      ]
    },
    {
      "cell_type": "code",
      "metadata": {
        "id": "Qgji5hi7wM53",
        "colab_type": "code",
        "colab": {
          "base_uri": "https://localhost:8080/",
          "height": 54
        },
        "outputId": "aa1c6736-267e-4c94-ebd5-7f00ea54d418"
      },
      "source": [
        "with open(\"nlp_bot/Section_6/gingatetsudono_yoru.txt\", mode=\"r\", encoding=\"utf-8\") as f:\n",
        "  data = f.read()\n",
        "line1 = data.split(\"\\n\")[0]\n",
        "print(line1)"
      ],
      "execution_count": 30,
      "outputs": [
        {
          "output_type": "stream",
          "text": [
            "「ではみなさんは、そういうふうに川だと云《い》われたり、乳の流れたあとだと云われたりしていたこのぼんやりと白いものがほんとうは何かご承知ですか。」先生は、黒板に吊《つる》した大きな黒い星座の図の、上から下へ白くけぶった銀河帯のようなところを指《さ》しながら、みんなに問《とい》をかけました。\n"
          ],
          "name": "stdout"
        }
      ]
    },
    {
      "cell_type": "markdown",
      "metadata": {
        "id": "CyI6Xty7xE23",
        "colab_type": "text"
      },
      "source": [
        "読み込んだ小説のデータから正規表現を用いてルビなどを除去。\n",
        "その後、文章ごとにリストに格納してpickleを使って保存。"
      ]
    },
    {
      "cell_type": "code",
      "metadata": {
        "id": "Y3taro6MwpXP",
        "colab_type": "code",
        "colab": {
          "base_uri": "https://localhost:8080/",
          "height": 34
        },
        "outputId": "b8147362-c20a-48b5-9bd0-8d2ceea302e5"
      },
      "source": [
        "import re\n",
        "import pickle\n",
        "\n",
        "data = re.sub(\"≪[^≫]+≫\", \"\", data) # ルビの削除\n",
        "data = re.sub(\"[《≪]\", \"\", data) # ルビの削除\n",
        "data = re.sub(\"［[^］]+］\", \"\", data) # 読みの注意の削除\n",
        "data = re.sub(\"[｜ 　「」\\n]\", \"\", data) # | と全角半角スペース、「」と改行の削除\n",
        "separator = \"。\"\n",
        "data_list = data.split(separator)\n",
        "data_list.pop() # 最後は空の文字列なので削除\n",
        "data_list = [x+separator for x in data_list] # 文章の最後に。を追加\n",
        "\n",
        "print(data_list[0])\n",
        "with open(\"data.pickle\", mode=\"wb\") as f:\n",
        "  pickle.dump(data_list, f)"
      ],
      "execution_count": 53,
      "outputs": [
        {
          "output_type": "stream",
          "text": [
            "ではみなさんは、そういうふうに川だと云いわれたり、乳の流れたあとだと云われたりしていたこのぼんやりと白いものがほんとうは何かご承知ですか。\n"
          ],
          "name": "stdout"
        }
      ]
    },
    {
      "cell_type": "markdown",
      "metadata": {
        "id": "UiHsdacC0Y3h",
        "colab_type": "text"
      },
      "source": [
        "保存されているか確認する。"
      ]
    },
    {
      "cell_type": "code",
      "metadata": {
        "id": "hXZfHaflxdo8",
        "colab_type": "code",
        "colab": {
          "base_uri": "https://localhost:8080/",
          "height": 34
        },
        "outputId": "4ed29049-f28a-48a3-a4ac-255a2f34e354"
      },
      "source": [
        "with open(\"data.pickle\", mode=\"rb\") as f:\n",
        "  data_list = pickle.load(f)\n",
        "print(data_list[0])"
      ],
      "execution_count": 54,
      "outputs": [
        {
          "output_type": "stream",
          "text": [
            "ではみなさんは、そういうふうに川だと云いわれたり、乳の流れたあとだと云われたりしていたこのぼんやりと白いものがほんとうは何かご承知ですか。\n"
          ],
          "name": "stdout"
        }
      ]
    },
    {
      "cell_type": "markdown",
      "metadata": {
        "id": "03qE1u9w1Umw",
        "colab_type": "text"
      },
      "source": [
        "# 形態素解析\n",
        "\n",
        "言葉の意味で文章を分割する。\n",
        "\n",
        "janomeを使う。インストールは下記\n",
        "> pip install janome"
      ]
    },
    {
      "cell_type": "code",
      "metadata": {
        "id": "IV4v6aEi0lG1",
        "colab_type": "code",
        "colab": {
          "base_uri": "https://localhost:8080/",
          "height": 34
        },
        "outputId": "258a656b-6ae6-462a-b692-646ad581c1cf"
      },
      "source": [
        "from janome.tokenizer import Tokenizer\n",
        "\n",
        "t = Tokenizer()\n",
        "\n",
        "s = \"すもももももももものうち\"\n",
        "\n",
        "word_list = t.tokenize(s, wakati=True)\n",
        "print(word_list)"
      ],
      "execution_count": 47,
      "outputs": [
        {
          "output_type": "stream",
          "text": [
            "['すもも', 'も', 'もも', 'も', 'もも', 'の', 'うち']\n"
          ],
          "name": "stdout"
        }
      ]
    },
    {
      "cell_type": "markdown",
      "metadata": {
        "id": "BfSo_QyE2ZDz",
        "colab_type": "text"
      },
      "source": [
        "## 保存したテキストを分かち書き"
      ]
    },
    {
      "cell_type": "code",
      "metadata": {
        "id": "EEgKm0P_1gMC",
        "colab_type": "code",
        "colab": {
          "base_uri": "https://localhost:8080/",
          "height": 54
        },
        "outputId": "7c2b6617-92e5-4d5d-a4ef-2384330388ab"
      },
      "source": [
        "with open(\"data.pickle\", mode=\"rb\") as f:\n",
        "  data_list = pickle.load(f)\n",
        "\n",
        "for index, sentence in enumerate(data_list):\n",
        "  if index == 1:\n",
        "    print(t.tokenize(sentence, wakati=True))"
      ],
      "execution_count": 55,
      "outputs": [
        {
          "output_type": "stream",
          "text": [
            "['先生', 'は', '、', '黒板', 'に', '吊', 'つるし', 'た', '大きな', '黒い', '星座', 'の', '図', 'の', '、', '上', 'から', '下', 'へ', '白く', 'けぶっ', 'た', '銀河', '帯', 'の', 'よう', 'な', 'ところ', 'を', '指さし', 'ながら', '、', 'みんな', 'に', '問', 'とい', 'を', 'かけ', 'まし', 'た', '。']\n"
          ],
          "name": "stdout"
        }
      ]
    },
    {
      "cell_type": "markdown",
      "metadata": {
        "id": "cWmXAney3iA7",
        "colab_type": "text"
      },
      "source": [
        "## 単語の出現回数をカウント"
      ]
    },
    {
      "cell_type": "code",
      "metadata": {
        "id": "W0eIt6iY2xM6",
        "colab_type": "code",
        "colab": {
          "base_uri": "https://localhost:8080/",
          "height": 54
        },
        "outputId": "1728aea4-54d8-4fbf-b34c-e05b2e44653a"
      },
      "source": [
        "import collections\n",
        "\n",
        "t = Tokenizer()\n",
        "\n",
        "words = []\n",
        "for sentence in data_list:\n",
        "  words += t.tokenize(sentence, wakati=True) # listに全ての単語を入れる\n",
        "\n",
        "c = collections.Counter(words)\n",
        "print(c)"
      ],
      "execution_count": 56,
      "outputs": [
        {
          "output_type": "stream",
          "text": [
            "Counter({'の': 1251, '。': 1120, '、': 986, 'た': 946, 'て': 882, 'に': 758, 'は': 625, 'を': 560, 'が': 520, 'まし': 455, 'と': 291, 'も': 238, 'で': 214, 'よう': 208, 'し': 190, 'ジョバンニ': 189, 'か': 185, 'な': 171, 'から': 169, 'です': 160, 'その': 156, 'だ': 153, 'い': 148, 'ん': 142, 'へ': 126, 'う': 118, 'でし': 111, 'いる': 106, 'ない': 103, 'カムパネルラ': 101, '人': 101, 'もう': 93, '見': 91, 'そう': 81, 'や': 80, 'よ': 79, '云い': 77, 'なっ': 75, 'ながら': 70, '方': 66, 'たり': 60, 'ぼく': 59, 'たち': 58, 'それ': 56, 'また': 56, '中': 55, 'みんな': 54, '来': 53, '二': 51, 'ます': 48, '何': 47, 'ほんとう': 45, '一': 44, '鳥': 44, 'どこ': 43, 'ね': 43, 'れ': 42, '立っ': 42, 'そして': 41, 'ああ': 41, 'けれども': 40, '見え': 40, 'こと': 39, '窓': 39, '汽車': 39, '前': 38, 'ませ': 38, '小さな': 38, 'いま': 38, 'あの': 38, 'という': 37, '眼': 37, 'まるで': 36, 'ず': 36, '行っ': 36, '川': 35, 'とき': 35, 'ねえ': 35, 'この': 34, '僕': 33, 'もの': 32, '大きな': 32, 'わ': 32, 'ある': 31, 'まで': 31, 'そら': 31, '行く': 31, 'たくさん': 30, 'お': 30, 'だろ': 30, 'なり': 29, '水': 29, 'ぼんやり': 28, '向う': 28, '青年': 28, '白い': 27, 'いい': 27, 'こっち': 27, 'さっき': 27, 'あり': 27, '黒い': 26, '上': 26, 'する': 26, 'いっぱい': 26, 'そこ': 26, 'さ': 26, 'ろ': 26, 'だんだん': 26, 'いろ': 26, '風': 26, '星': 25, '顔': 25, '行き': 25, '少し': 25, '女の子': 25, '銀河': 24, 'すぐ': 24, 'すると': 24, 'たら': 24, '野原': 24, 'お父さん': 23, 'き': 23, '出': 23, '天の川': 23, 'なら': 22, '声': 22, 'しまい': 21, '思い': 21, 'なく': 21, 'なかっ': 21, 'あかり': 21, 'って': 21, 'きれい': 21, 'ばかり': 21, '捕り': 21, '手': 20, '一つ': 20, 'ここ': 20, 'ら': 20, 'とこ': 20, '出し': 20, 'でも': 20, 'じゃ': 20, '下': 19, 'でしょ': 19, '見える': 19, '燈': 19, 'うし': 19, '来る': 19, 'てる': 19, '鷺': 19, '光っ': 18, 'そっち': 18, '火': 18, '十': 18, '流れ': 17, '本': 17, '気': 17, 'え': 17, '居': 17, 'つい': 17, 'すっかり': 17, 'ごと': 17, 'られ': 17, '見る': 16, 'しばらく': 16, '外': 16, 'だまっ': 16, 'お母さん': 16, '云っ': 16, 'あげ': 15, 'よく': 15, 'ザネリ': 15, 'なか': 15, '形': 15, '音': 15, '電': 15, 'わたし': 15, '胸': 15, '思っ': 15, 'きっと': 15, 'だって': 15, '誰': 15, '苹果': 15, 'かけ': 14, 'ので': 14, 'あなた': 14, 'まっ': 14, 'うち': 14, 'あっ': 14, 'ごらん': 14, 'こんな': 14, '青い': 14, '町': 14, '俄': 14, 'にわかに': 14, '標': 14, 'らしい': 14, '遠く': 14, '三角': 14, '神さま': 14, '席': 13, 'なさい': 13, '木': 13, 'まだ': 13, '高い': 13, 'べ': 13, '口笛': 13, '二つ': 13, 'たろ': 13, 'そこら': 13, '大': 13, 'こう': 13, 'いきなり': 13, 'より': 13, '走っ': 13, 'しずか': 13, '両手': 13, '男の子': 13, '白く': 12, 'ところ': 12, 'やっぱり': 12, 'もっと': 12, '私': 12, 'ちょうど': 12, '考え': 12, 'いろいろ': 12, '着': 12, 'ば': 12, '三': 12, '通り': 12, 'うっ': 12, 'とっ': 12, 'どうして': 12, 'どう': 12, '立派': 12, 'たれ': 12, 'まっすぐ': 12, '思わず': 12, 'では': 11, '先生': 11, 'あれ': 11, 'いつか': 11, 'さん': 11, 'でき': 11, '赤': 11, '答え': 11, 'いっしょ': 11, 'まん中': 11, 'なんか': 11, 'どんどん': 11, '車': 11, '叫び': 11, '赤い': 11, 'さそり': 11, 'おっかさん': 11, '云え': 11, '河原': 11, 'あすこ': 11, 'ええ': 11, 'さあ': 11, 'ところが': 10, 'わらい': 10, 'す': 10, 'もっ': 10, '砂': 10, '光る': 10, '次': 10, '大きく': 10, '頭': 10, '持っ': 10, '室': 10, '牛乳': 10, 'くる': 10, 'だい': 10, '高く': 10, '通っ': 10, '明るく': 10, '蝎': 10, 'ど': 10, 'あ': 10, '間': 10, '聞え': 10, 'りんご': 10, 'ため': 10, '緑': 10, 'もん': 10, 'それから': 9, 'わから': 9, '早く': 9, 'め': 9, 'じっと': 9, 'まっ黒': 9, '今日': 9, '時': 9, 'いち': 9, '帰っ': 9, 'ならん': 9, '空': 9, 'さき': 9, '思う': 9, 'そんな': 9, '（': 9, '）': 9, '黄いろ': 9, '居る': 9, '匂': 9, '橋': 9, '子供': 9, 'めん': 9, 'ちらちら': 9, 'とうとう': 9, 'じき': 9, '地図': 9, 'すすき': 9, 'ま': 9, 'いや': 9, 'ひと': 9, '燈台': 9, '船': 9, '旗': 9, 'あと': 8, '四': 8, 'はっきり': 8, 'ふりかえっ': 8, '六': 8, '服': 8, '走り': 8, 'おい': 8, '下り': 8, '上着': 8, '云う': 8, 'だっ': 8, '岸': 8, '口': 8, '足': 8, 'まわっ': 8, '新': 8, '叫': 8, 'なんにも': 8, '時計': 8, '下さい': 8, '柱': 8, '降り': 8, '青': 8, '花': 8, '列': 8, '小さく': 8, 'ぺん': 8, 'せ': 8, 'どうしても': 8, '待っ': 8, '白鳥': 8, '波': 8, '青じろい': 8, 'さいわい': 8, '十字架': 8, '向う岸': 8, 'なし': 8, '燃え': 8, '半分': 8, 'きき': 8, '天上': 8, 'ひとり': 8, 'なんだか': 7, '自分': 7, '知っ': 7, '気の毒': 7, 'じ': 7, '光': 7, '葉': 7, 'おり': 7, 'だけ': 7, '込': 7, 'あて': 7, 'ころ': 7, '吹': 7, 'だし': 7, 'ひ': 7, 'っ': 7, 'あたし': 7, '間もなく': 7, '〔': 7, '〕': 7, 'なる': 7, '一緒': 7, '影': 7, 'さけび': 7, '忘れ': 7, 'かすか': 7, 'け': 7, 'たい': 7, '幾': 7, 'くらい': 7, '一生けん命': 7, 'わかり': 7, 'ありがとう': 7, 'やっ': 7, 'しまっ': 7, '丘': 7, '北': 7, '林': 7, '草': 7, '虫': 7, '赤く': 7, 'らしく': 7, 'ふり': 7, '乗っ': 7, 'すきとおっ': 7, '崖': 7, '岩': 7, 'くるみ': 7, 'まあ': 7, '第': 7, '喰': 7, 'ただ': 7, 'からだ': 7, 'インデアン': 7, 'ご': 6, '指さし': 6, '急い': 6, 'どんな': 6, '博士': 6, '美しい': 6, 'はず': 6, '学校': 6, '天': 6, 'これ': 6, 'ども': 6, '青く': 6, '入っ': 6, 'ガラス': 6, '時間': 6, 'あけ': 6, '家': 6, 'こん': 6, '烏瓜': 6, 'うり': 6, '入口': 6, 'おじぎ': 6, 'ぐらい': 6, 'はじめ': 6, '入れ': 6, '置い': 6, 'かた': 6, '袋': 6, 'たべ': 6, 'へん': 6, '分': 6, '今晩': 6, '横': 6, 'ぞ': 6, 'あんな': 6, '灯': 6, '海': 6, '日': 6, '脚': 6, '露': 6, '帽子': 6, '思わ': 6, 'せい': 6, 'かたち': 6, '輪': 6, 'りん': 6, 'みち': 6, '万': 6, 'あたり': 6, 'はね': 6, 'なぜ': 6, '停車場': 6, 'まったく': 6, 'うつくしい': 6, 'かわら': 6, 'うつくしく': 6, 'しまう': 6, '幸': 6, '水晶': 6, 'そっと': 6, '談': 6, '霧': 6, 'きり': 6, 'こいつ': 6, '百': 6, '行こ': 6, 'わたくし': 6, 'こんなに': 6, 'げ': 6, '鶴': 6, '雁': 6, 'なけ': 6, '切符': 6, '…': 6, '車掌': 6, '看守': 6, '何だか': 6, 'なれ': 6, 'となり': 6, '黒': 6, '姉': 6, '落ち': 6, 'とうもろこし': 6, '五': 5, 'として': 5, 'そのまま': 5, 'たしかに': 5, 'こんど': 5, 'あんなに': 5, '元気': 5, '巨': 5, 'ひろげ': 5, '筈': 5, 'のに': 5, 'ほど': 5, 'あま': 5, 'わけ': 5, '底': 5, '遠い': 5, '集っ': 5, '近く': 5, '夜': 5, 'さまざま': 5, 'つく': 5, '振': 5, 'つけ': 5, 'たく': 5, '三つ': 5, 'くつ': 5, '座す': 5, 'わっ': 5, 'こ': 5, 'たっ': 5, 'ぶ': 5, '屋': 5, 'あがり': 5, 'ゆっくり': 5, '書い': 5, 'だけど': 5, '信号': 5, '街': 5, 'ぼうし': 5, 'っと': 5, 'せわしく': 5, '店': 5, 'いちばん': 5, 'じゅう': 5, '歩い': 5, '肩': 5, 'つゆ': 5, 'いく': 5, 'たって': 5, '年': 5, 'わらっ': 5, '過ぎ': 5, 'くら': 5, '出す': 5, '南': 5, '夢': 5, 'ゆめ': 5, 'お宮': 5, 'やら': 5, 'ステーション': 5, 'ぼ': 5, 'どうも': 5, 'とう': 5, '飛ん': 5, '森': 5, '橙': 5, 'おや': 5, '辺': 5, '息': 5, 'りんどう': 5, 'こらえ': 5, 'ひどい': 5, '島': 5, '度': 5, 'ちらっと': 5, '実': 5, 'いけ': 5, 'きらっ': 5, 'み': 5, 'あわて': 5, 'かなしい': 5, '正面': 5, 'たずね': 5, '笑い': 5, 'いいえ': 5, 'できる': 5, '押': 5, 'くるくる': 5, '字': 5, 'たった': 5, 'ずつ': 5, 'しっかり': 5, 'あら': 5, '腕': 5, 'ボート': 5, 'はて': 5, '川下': 5, 'みなさん': 4, '乳': 4, '星座': 4, '図': 4, '教室': 4, 'わかっ': 4, '勢い': 4, 'きおい': 4, '立ちあがり': 4, 'く': 4, 'やはり': 4, 'まま': 4, 'いつ': 4, '返事': 4, 'つぶ': 4, 'うかん': 4, '太陽': 4, '浮': 4, '深く': 4, 'レンズ': 4, 'きちんと': 4, '所': 4, '七': 4, 'ふっ': 4, '枝': 4, 'いっ': 4, 'シャツ': 4, '靴': 4, 'きれ': 4, 'だり': 4, '行ける': 4, 'たて': 4, 'くち': 4, 'パン': 4, '紫': 4, '工合': 4, 'くれ': 4, 'おまえ': 4, 'かん': 4, 'かい': 4, '標本': 4, '空白': 4, 'うん': 4, '小さい': 4, 'だから': 4, 'なくなっ': 4, 'とり': 4, 'はい': 4, '暗い': 4, 'ケンタウル': 4, 'さびしい': 4, '青白く': 4, 'かげ': 4, '尖': 4, 'とがっ': 4, '子': 4, 'うごい': 4, '硝子': 4, '円い': 4, 'ひる': 4, 'けむっ': 4, 'あし': 4, 'かかっ': 4, 'はなれ': 4, 'それでも': 4, 'めぐり': 4, 'ふい': 4, '首': 4, '十字': 4, '云お': 4, 'かける': 4, '天気': 4, '牧場': 4, 'しら': 4, 'ぴき': 4, 'つめたい': 4, 'ぬれ': 4, 'がらん': 4, '仕方': 4, 'けむり': 4, 'ほた': 4, 'る': 4, 'たん': 4, 'ずいぶん': 4, 'おもい': 4, 'けれど': 4, '沿っ': 4, '線路': 4, '銀': 4, 'ときどき': 4, '燐光': 4, 'あるいは': 4, '湧': 4, 'いらっしゃっ': 4, '泣き': 4, 'びっくり': 4, 'なにか': 4, '指': 4, '頬': 4, 'ほほ': 4, 'ちょっと': 4, 'ゆるやか': 4, 'つ': 4, '明るい': 4, '渚': 4, '鉄': 4, '変': 4, '右手': 4, 'スコープ': 4, 'おっ': 4, '学士': 4, 'ていねい': 4, '荷物': 4, 'かぎ': 4, '男': 4, '毛': 4, 'ぁ': 4, '斯': 4, '桔梗': 4, 'しよ': 4, 'ねむっ': 4, '支度': 4, 'つらい': 4, 'ねえさん': 4, 'ましょ': 4, '助け': 4, 'はなし': 4, 'よほど': 4, '千': 4, 'かおる': 4, '孔雀': 4, '下流': 4, '舟': 4, '双子': 4, 'さま': 4, 'ふう': 3, 'われ': 3, '云わ': 3, 'つるし': 3, '帯': 3, 'あげよ': 3, '雑誌': 3, '読ん': 3, '読む': 3, '気持ち': 3, '見附': 3, 'すっと': 3, '望遠鏡': 3, 'うなずき': 3, '涙': 3, 'なみ': 3, 'もちろん': 3, 'おおきな': 3, '仕事': 3, 'とも': 3, 'あんまり': 3, '物': 3, 'わざと': 3, '考える': 3, 'ぶん': 3, '粒': 3, 'あたる': 3, 'つまり': 3, 'みな': 3, '四方': 3, '深い': 3, '指し': 3, '同じ': 3, 'わずか': 3, '厚い': 3, 'ぼうっと': 3, 'お祭': 3, 'おしまい': 3, '重ね': 3, '門': 3, '出る': 3, '組': 3, '八': 3, '上り': 3, '卓子': 3, '渡': 3, '壁': 3, '活字': 3, '紙きれ': 3, '渡し': 3, 'ふき': 3, '寄っ': 3, 'まり': 3, '一目散': 3, 'むら': 3, '植え': 3, 'へや': 3, 'かぶっ': 3, 'お前': 3, '悪い': 3, 'だの': 3, 'かわるがわる': 3, '数': 3, '決して': 3, 'なあ': 3, '通る': 3, 'アルコール': 3, 'まわし': 3, '遊ん': 3, 'おいで': 3, '心配': 3, '吹い': 3, 'おお': 3, '向う側': 3, 'はいっ': 3, '鼠': 3, 'ねずみ': 3, 'こさえ': 3, '盤': 3, 'めぐっ': 3, 'そ': 3, '魚': 3, '瓶': 3, '電気': 3, 'など': 3, '沢山': 3, '豆': 3, '子ども': 3, '叫ん': 3, '垂れ': 3, 'ほん': 3, '牛': 3, 'あがっ': 3, '擦': 3, 'めいめい': 3, '聞き': 3, '戻': 3, 'のど': 3, '怒': 3, '遁': 3, '吹き': 3, '耳': 3, 'かの': 3, 'ゆるい': 3, '平ら': 3, '出さ': 3, '投げ': 3, 'はずれ': 3, '旅人': 3, '蛍': 3, '消え': 3, '灼': 3, 'すき': 3, 'ぱっと': 3, '金剛石': 3, 'うせ': 3, 'みる': 3, '腰掛': 3, 'こしかけ': 3, 'がら': 3, '引っ込め': 3, 'おくれ': 3, '青ざめ': 3, 'おかしな': 3, 'しきりに': 3, 'ぐるぐる': 3, '鉄道': 3, 'もらっ': 3, 'しるし': 3, '愉快': 3, 'ゆか': 3, 'あっち': 3, 'いな': 3, 'ゆれ': 3, 'ふるえ': 3, '点': 3, 'もと': 3, '咲い': 3, '秋': 3, 'だめ': 3, 'わく': 3, '海岸': 3, '急': 3, 'いったい': 3, '雲': 3, 'いただい': 3, 'つつましく': 3, '祈い': 3, 'あかし': 3, 'かがやい': 3, 'うつっ': 3, '時々': 3, 'さっと': 3, 'やさしい': 3, 'ざわざわ': 3, 'ちがっ': 3, 'シグナル': 3, 'ほ': 3, '丁度': 3, '停車': 3, '場': 3, 'とまり': 3, 'くっきり': 3, '改札': 3, 'トパース': 3, 'なぎさ': 3, 'ぶっつかっ': 3, 'がけ': 3, 'がん': 3, '不思議': 3, 'すこし': 3, '持ち': 3, 'つるはし': 3, 'わら': 3, 'いたし': 3, 'さよなら': 3, 'あちこち': 3, '膝': 3, 'とる': 3, '挨拶': 3, 'あいさつ': 3, '網棚': 3, '笛': 3, '光り': 3, '訊き': 3, 'どちら': 3, 'いらっしゃる': 3, 'きまり': 3, 'ひびき': 3, 'ぴたっと': 3, 'かたまっ': 3, 'たべる': 3, '包み': 3, 'ひらべったく': 3, '包ん': 3, 'ここら': 3, 'なん': 3, 'お菓子': 3, 'たかっ': 3, 'り': 3, 'ほう': 3, '雪': 3, '開い': 3, 'っぽう': 3, 'だま': 3, 'ぜんたい': 3, '進ん': 3, 'はじ': 3, '環': 3, '睡': 3, 'ポケット': 3, 'のぞい': 3, 'サウザンクロス': 3, '大した': 3, 'もうこ': 3, '一体': 3, 'そしたら': 3, '何とも': 3, 'うたっ': 3, '弟': 3, 'やっと': 3, '氷山': 3, '沈み': 3, 'とても': 3, 'どうか': 3, 'この方': 3, 'そんなに': 3, '神': 3, 'きょう': 3, '番': 3, '烈': 3, 'おとり': 3, '農業': 3, 'あな': 3, 'やろ': 3, 'すうっ': 3, 'からす': 3, 'はげしく': 3, '仰': 3, 'こころ': 3, 'もち': 3, '地平線': 3, '棒': 3, 'さびし': 3, '尺': 3, '孔': 3, '河': 3, '立ち': 3, '鱒': 3, '柵': 3, '済み': 3, '吊': 2, 'このごろ': 2, '毎日': 2, '答える': 2, 'よっ': 2, '困っ': 2, 'もじもじ': 2, 'よし': 2, '朝': 2, 'はきはき': 2, 'あわ': 2, 'わが': 2, '砂利': 2, 'じゃり': 2, '似': 2, '球': 2, 'そん': 2, '速': 2, '地球': 2, '両面': 2, '凸': 2, 'とつレンズ': 2, 'まわす': 2, 'うすい': 2, 'しか': 2, '大き': 2, 'について': 2, 'お話': 2, 'ふた': 2, 'しめ': 2, 'まもなく': 2, '活版': 2, '帰ら': 2, '隅': 2, 'こしらえ': 2, 'ひのき': 2, 'だに': 2, '処': 2, '計算': 2, '台': 2, 'ぬい': 2, 'つき': 2, '扉': 2, '器': 2, 'まわり': 2, '歌う': 2, 'さがし': 2, '拾っ': 2, '枚': 2, '紙切れ': 2, '平たい': 2, '君': 2, '冷': 2, 'ひろい': 2, '箱': 2, '黙': 2, 'すか': 2, '白': 2, 'いせ': 2, '角砂糖': 2, 'ふく': 2, 'くさん': 2, 'アスパラガス': 2, 'かさ': 2, 'ぐあい': 2, '巾': 2, 'んで': 2, '買っ': 2, '姉さん': 2, '来よ': 2, 'トマト': 2, '皿': 2, '新聞': 2, '今年': 2, '漁': 2, 'よかっ': 2, 'ごく': 2, '角': 2, '今': 2, '一昨年': 2, '以下': 2, 'あう': 2, 'つれ': 2, '帰る': 2, '走る': 2, '七つ': 2, 'つかっ': 2, '犬': 2, 'ほうき': 2, '鼻': 2, '鳴らし': 2, '今夜': 2, 'ながし': 2, '片': 2, '勢': 2, '祭': 2, '檜': 2, '長く': 2, '引い': 2, '濃': 2, 'こく': 2, '黒く': 2, '越': 2, 'くるっ': 2, 'しまわ': 2, 'つめたく': 2, '鳴る': 2, 'ばか': 2, '石': 2, 'ばん': 2, '銅': 2, 'ぼう': 2, 'ふしぎ': 2, '獣': 2, '張っ': 2, 'まっ青': 2, 'もみ': 2, '楢': 2, '会社': 2, 'ふらせ': 2, '花火': 2, 'うす': 2, '台所': 2, '女': 2, '用': 2, '貰': 2, 'らい': 2, 'あした': 2, '見おろし': 2, 'もう少し': 2, 'ください': 2, '笑っ': 2, 'おぼえ': 2, 'つまっ': 2, '続い': 2, '避': 2, 'さけ': 2, 'てんでに': 2, 'さびしく': 2, '走り出し': 2, 'わあ': 2, '面白': 2, 'おもしろく': 2, 'のぼっ': 2, 'やぶ': 2, '照らし': 2, 'すかし': 2, '松': 2, 'がらんと': 2, 'ひらけ': 2, 'わたっ': 2, '頂': 2, 'いただき': 2, 'つり': 2, 'ぎく': 2, 'かおり': 2, '暗やみ': 2, '鳴り': 2, 'ひろがっ': 2, '列車': 2, '剥': 2, 'むい': 2, '挙げ': 2, 'いう': 2, 'いくら': 2, 'いとこ': 2, '四つ': 2, '引っ': 2, '集り': 2, 'ぺかぺか': 2, 'うごか': 2, 'こい': 2, '鋼': 2, 'やい': 2, '板': 2, '沈': 2, 'とれ': 2, 'ばら': 2, 'こすっ': 2, 'つづけ': 2, 'しん': 2, 'こども': 2, 'たまらなく': 2, 'きみ': 2, '遅': 2, 'のぞき': 2, '直っ': 2, 'すい': 2, '構わ': 2, 'かく': 2, 'だいだい': 2, 'ちりばめ': 2, '月夜': 2, 'さらさら': 2, '延び': 2, '水素': 2, 'ぎらっと': 2, '近い': 2, '或': 2, 'それに': 2, '石炭': 2, 'たいてい': 2, '左手': 2, 'ひるがえる': 2, '微光': 2, '月': 2, '雨': 2, '燃える': 2, 'いよいよ': 2, 'プリオシン': 2, 'ゆるし': 2, '下さる': 2, '思い切っ': 2, 'じつに': 2, 'あらゆる': 2, 'きらびやか': 2, '後光': 2, '射': 2, 'さし': 2, 'さめる': 2, '凍': 2, '円光': 2, 'ハルレヤ': 2, 'きもの': 2, '組み合せ': 2, '熟し': 2, '青じろく': 2, 'うず': 2, '鳴っ': 2, 'ことば': 2, '聞い': 2, 'もどり': 2, 'かなしみ': 2, '何気なく': 2, '着く': 2, 'さわやか': 2, '針': 2, '見よ': 2, '赤帽': 2, 'あか': 2, '囲ま': 2, '幅': 2, '広い': 2, '黄玉': 2, '皺': 2, '青白い': 2, 'あやしい': 2, '手首': 2, '水銀': 2, 'すすきの': 2, '生え': 2, 'なに': 2, '細い': 2, 'らん': 2, '立ちどまっ': 2, '倍': 2, '掘っ': 2, '寄せ': 2, '夢中': 2, 'たまえ': 2, '柔': 2, '骨': 2, '倒': 2, '潰': 2, 'つぶれ': 2, '以上': 2, 'ボス': 2, 'おいおい': 2, 'むかし': 2, '証明': 2, '地層': 2, '歩き': 2, 'ひざ': 2, '捕': 2, 'ござい': 2, '茶': 2, '外套': 2, 'いとう': 2, 'あみ': 2, 'ふえ': 2, '天井': 2, 'とまっ': 2, '赤ひげ': 2, '悪': 2, 'ぜ': 2, '喧嘩': 2, 'けんか': 2, '鍵': 2, 'おこっ': 2, 'つかまえる': 2, '商売': 2, '鳴い': 2, 'すまし': 2, '聴き': 2, 'ころん': 2, 'それとも': 2, 'そいつ': 2, '雑作': 2, '帰り': 2, 'こういう': 2, 'おさえ': 2, '安心': 2, '死ん': 2, '押し葉': 2, 'おかしい': 2, 'おろし': 2, '解き': 2, 'まっ白': 2, 'ちぢめ': 2, 'つぶっ': 2, 'がた': 2, 'やり': 2, 'ちゃんと': 2, 'おいしい': 2, '注文': 2, '手数': 2, '青じろ': 2, 'そろえ': 2, '扁': 2, '軽く': 2, 'チョコレート': 2, 'かし': 2, '菓子': 2, 'ちゃ': 2, '一昨日': 2, 'おととい': 2, '大将': 2, 'はっ': 2, '蒸発': 2, 'られる': 2, '守': 2, 'あがる': 2, '行か': 2, 'おりる': 2, '降る': 2, 'かっきり': 2, 'つかまえ': 2, 'とける': 2, 'ひろがり': 2, '疋': 2, '兵隊': 2, '死ぬ': 2, '隣': 2, '直し': 2, 'あたりまえ': 2, 'きっぷ': 2, 'サファイア': 2, '進み': 2, 'かくし': 2, '？': 2, '紙': 2, 'のぼ': 2, '熱く': 2, '全く': 2, 'はいち': 2, 'こま': 2, 'さえ': 2, '又': 2, 'ながめ': 2, '々': 2, '抜': 2, '見上げ': 2, 'はじめて': 2, '野茨': 2, '髪': 2, 'はだし': 2, '一ぱい': 2, '可愛': 2, '州': 2, 'こわい': 2, 'かまた': 2, '刻ん': 2, 'つかれ': 2, '座っ': 2, 'ちぢれ': 2, '泣い': 2, '歌': 2, 'ツインクル': 2, 'ハンケチ': 2, '旅': 2, 'なぐさめ': 2, 'なすっ': 2, 'げん': 2, '呉': 2, '親': 2, '幸福': 2, '狂気': 2, '送り': 2, '約': 2, 'うたい': 2, '何せ': 2, 'すばやく': 2, 'のり': 2, 'パシフィック': 2, '流れる': 2, 'はげしい': 2, 'のろし': 2, 'いかが': 2, '黄金': 2, 'きん': 2, 'かかえ': 2, 'よこし': 2, 'ひとりでに': 2, '播': 2, 'あい': 2, 'にこにこ': 2, 'さめ': 2, 'おじさん': 2, 'さまし': 2, '灰': 2, 'オーケストラ': 2, 'ろう': 2, '烏': 2, '座': 2, 'わか': 2, 'ぐらが': 2, 'かくす': 2, '空中': 2, '砲丸': 2, '群': 2, 'こそ': 2, 'わたれ': 2, '熱': 2, 'おもしろ': 2, '気持': 2, 'ぶっ': 2, 'いくつ': 2, '振子': 2, '世界': 2, '交響楽': 2, '見つめ': 2, '高原': 2, '羽根': 2, '弓': 2, '追っ': 2, 'ひき': 2, 'ながれ': 2, '工兵': 2, 'ちかく': 2, 'はねあがり': 2, '発破': 2, '遊び': 2, '尾': 2, 'にげ': 2, '命': 2, 'あかるく': 2, 'うそ': 2, '会い': 2, '組ん': 2, 'ひざまずい': 2, 'かかり': 2, '奥': 2, '両方': 2, 'マルソ': 2, 'わくわく': 2, 'そういう': 1, '承知': 1, '黒板': 1, 'けぶっ': 1, '問': 1, 'とい': 1, 'やめ': 1, 'ねむく': 1, 'ひま': 1, 'みつけ': 1, 'どぎまぎ': 1, '調べる': 1, '大体': 1, '向け': 1, '名指し': 1, '立ち上っ': 1, '意外': 1, '星図': 1, '勿論': 1, '書斎': 1, 'しょ': 1, 'さい': 1, 'ぎん': 1, '頁': 1, 'ページ': 1, '点々': 1, '写真': 1, '忘れる': 1, '午后': 1, 'つらく': 1, '遊ば': 1, 'がっ': 1, 'たまらない': 1, 'ですから': 1, 'もしも': 1, '細か': 1, '脂': 1, '油': 1, 'ゆ': 1, '真空': 1, '伝える': 1, '棲': 1, 'すん': 1, 'したがって': 1, '模型': 1, 'いちいち': 1, 'ほぼ': 1, '中ごろ': 1, '薄': 1, '即': 1, 'すなわち': 1, '即ち': 1, '説': 1, 'どれ': 1, '位': 1, '理科': 1, 'ノート': 1, '机': 1, '蓋': 1, '礼': 1, '校庭': 1, 'すみ': 1, '桜': 1, 'さくら': 1, '集まっ': 1, '星祭': 1, '流す': 1, '取り': 1, '相談': 1, 'らしかっ': 1, 'どしどし': 1, '家々': 1, 'はこん': 1, '祭り': 1, 'いちい': 1, '玉': 1, '仕度': 1, '曲っ': 1, 'だぶだぶ': 1, '突': 1, '当り': 1, '昼': 1, '輪転': 1, 'しばっ': 1, 'ラムプシェード': 1, '数え': 1, '働い': 1, '番目': 1, 'テーブル': 1, '棚': 1, '足もと': 1, '函': 1, 'とりだし': 1, '向': 1, 'うの': 1, 'たてかけ': 1, 'しゃがみ': 1, 'こむ': 1, 'ピンセット': 1, '粟粒': 1, '拾い': 1, '虫めがね': 1, 'お早う': 1, '向か': 1, '拭': 1, 'ぬぐい': 1, 'いちど': 1, '引き合せ': 1, '受け取っ': 1, '微か': 1, '銀貨': 1, '威勢': 1, '台の下': 1, '鞄': 1, 'かばん': 1, 'もて': 1, '飛びだし': 1, '塊': 1, '買い': 1, '裏町': 1, '一番': 1, '左側': 1, 'ケール': 1, '日覆': 1, '母': 1, '悪く': 1, 'ぬぎ': 1, 'ひどかっ': 1, '涼': 1, 'すずしく': 1, '玄関': 1, 'げんか': 1, '上っ': 1, '被': 1, '寝': 1, 'やす': 1, 'ほしく': 1, 'たべよ': 1, 'さら': 1, 'むしゃむしゃ': 1, '今朝': 1, '北の方': 1, 'かも': 1, 'しれ': 1, '監獄': 1, '入る': 1, '寄贈': 1, 'ぞう': 1, '蟹': 1, '甲': 1, '年生': 1, '授業': 1, '修学旅行': 1, '文字': 1, 'ラッコ': 1, 'といった': 1, 'ひやかす': 1, '悪口': 1, '友達': 1, 'もつれ': 1, '途中': 1, 'とち': 1, 'ゅうたびたび': 1, 'アルコールラムプ': 1, 'レール': 1, '組み合せる': 1, '円く': 1, '電柱': 1, '石油': 1, '罐': 1, 'かま': 1, '煤': 1, 'すすけ': 1, '毎朝': 1, '家中': 1, 'ぃんとしているからな': 1, '早い': 1, 'ザウエル': 1, 'しっぽ': 1, '箒': 1, 'ついて行く': 1, 'はいら': 1, 'しめて': 1, '置こ': 1, '涼しい': 1, '附': 1, 'かたづける': 1, '半': 1, '戸口': 1, '付き': 1, '坂': 1, '坂の下': 1, 'ばけ': 1, '機関': 1, '勾配': 1, 'ばい': 1, '速い': 1, 'こす': 1, '影法師': 1, 'コム': 1, 'パス': 1, '大股': 1, '通り過ぎ': 1, 'ひるま': 1, 'えり': 1, '小路': 1, 'こうじ': 1, 'ひら': 1, 'すれちがい': 1, '投げつける': 1, 'ばっ': 1, 'ぃんと': 1, '返し': 1, '植': 1, 'くせ': 1, '飾': 1, 'かざら': 1, 'ネオン': 1, '秒': 1, 'ふくろう': 1, '宝石': 1, '色': 1, '載': 1, '循': 1, '人馬': 1, '早見': 1, '飾っ': 1, '見入り': 1, '小さかっ': 1, '合せ': 1, '楕円': 1, 'けい': 1, 'あらわれる': 1, '爆発': 1, 'ばく': 1, 'はつ': 1, '湯気': 1, '蛇': 1, 'へび': 1, 'びん': 1, '勇士': 1, 'ぎっしり': 1, '思いだし': 1, 'きゅう': 1, '振っ': 1, '空気': 1, '澄': 1, 'すみきっ': 1, '包ま': 1, 'プラタヌス': 1, '人魚': 1, '都': 1, '折': 1, '着物': 1, 'ケンタウルス': 1, 'マグネシヤ': 1, '燃し': 1, 'たのし': 1, 'ぎやかさとはまるでちがったことを': 1, '急ぐ': 1, '町はずれ': 1, 'ポプラ': 1, '入り': 1, 'ぃんとして': 1, 'ごめんなさい': 1, '老': 1, 'ぐあいが': 1, 'そろそろ': 1, '※': 1, 'こすり': 1, '病気': 1, '困る': 1, 'お辞儀': 1, 'ぎをして': 1, 'まがろ': 1, '雑貨': 1, '入り乱れ': 1, '生徒': 1, '燈火': 1, '笑い声': 1, '同級': 1, 'もどろ': 1, '思い直し': 1, 'すぎよ': 1, 'おこら': 1, 'にげる': 1, '曲る': 1, 'なんとも': 1, '片足': 1, 'ぴょんぴょん': 1, '跳': 1, 'とん': 1, 'いと': 1, '急ぎ': 1, 'てんき': 1, '頂上': 1, '大熊': 1, 'ぐまぼしの': 1, 'ふだん': 1, '低く': 1, '連': 1, 'しげみ': 1, '一すじ': 1, '星あかり': 1, 'ださ': 1, 'ぴかぴか': 1, 'びかりを': 1, 'こえる': 1, '亘': 1, '野': 1, '薫': 1, '咲き': 1, '一疋': 1, '鳴き': 1, '続け': 1, 'どかどか': 1, 'けしき': 1, 'ともり': 1, 'ぎれの': 1, 'そよぎ': 1, '汗': 1, 'あせ': 1, '冷さ': 1, 'かなしく': 1, 'それどころ': 1, '見れ': 1, '琴': 1, '瞬': 1, 'またたき': 1, '蕈': 1, 'きのこ': 1, '延びる': 1, 'まち': 1, 'ともっ': 1, 'こうせい': 1, '億': 1, '蛍烏賊': 1, 'るい': 1, '化石': 1, 'しずめ': 1, 'ダイアモンド': 1, 'ねだん': 1, 'やすく': 1, '穫': 1, 'かくして': 1, 'ひっくりかえし': 1, '撒': 1, 'まい': 1, '気がつい': 1, '軽便鉄道': 1, '天蚕': 1, '絨': 1, 'びろう': 1, '明き': 1, 'ワニス': 1, '塗っ': 1, '真鍮': 1, 'ち': 1, 'ゅうの': 1, '気が付き': 1, '出そ': 1, '追いつか': 1, 'さそっ': 1, '出掛け': 1, 'いよ': 1, '迎': 1, 'むかい': 1, '苦しい': 1, '水筒': 1, 'スケッチ': 1, '帳': 1, 'あらわさ': 1, '左': 1, '条': 1, 'たどっ': 1, '標さ': 1, 'ひょう': 1, '泉水': 1, '黒曜石': 1, 'もらわ': 1, 'ゆら': 1, '立て': 1, 'こつこつ': 1, '見きわめよ': 1, '加減': 1, 'こまか': 1, '虹': 1, 'かすん': 1, '三角形': 1, '或いは': 1, '鎖': 1, 'くさり': 1, 'どきどき': 1, 'やけに': 1, 'かがやく': 1, '顫': 1, 'びこうの': 1, 'へり': 1, 'みじかい': 1, '芝草': 1, 'しば': 1, '長石': 1, '刻': 1, 'きざま': 1, 'すばらしい': 1, '飛び下り': 1, 'あいつ': 1, '飛び乗っ': 1, 'みせよ': 1, '躍': 1, 'おどら': 1, 'きいろ': 1, 'コップ': 1, 'けむる': 1, 'どもり': 1, 'せきこん': 1, 'ちり': 1, '決心': 1, 'あつめ': 1, '河床': 1, 'こおっ': 1, '北極': 1, '鋳': 1, '金': 1, '永久': 1, 'しろから': 1, '起り': 1, 'ひだ': 1, 'バイブル': 1, 'すいしょ': 1, '珠': 1, 'じゅず': 1, 'どの人': 1, 'のっ': 1, 'ぽうっと': 1, 'かくれ': 1, '狐火': 1, 'きつね': 1, 'びのように': 1, 'ほんの': 1, 'さえぎら': 1, '絵': 1, 'つぎ': 1, 'カトリック': 1, '尼': 1, '円': 1, '瞳': 1, 'ひとみ': 1, '落し': 1, '伝わっ': 1, '虔': 1, 'つつしんで': 1, '語': 1, '合っ': 1, 'っきり': 1, '硫黄': 1, 'いおう': 1, 'おの': 1, '転': 1, 'てつ': 1, '機': 1, 'プラットホーム': 1, '規則正しく': 1, 'あらわれ': 1, '盤面': 1, 'ダイアル': 1, 'かれ': 1, '降りよ': 1, 'はねあがっ': 1, 'ドア': 1, '飛び出し': 1, 'かいさ': 1, 'ぐち': 1, 'がかっ': 1, '駅長': 1, '細工': 1, '銀杏': 1, 'いちょう': 1, '広場': 1, '道': 1, 'ならべ': 1, '車輪': 1, '輻': 1, 'つまみ': 1, '掌': 1, 'ひらに': 1, 'できし': 1, 'きし': 1, '習っ': 1, '礫': 1, 'こいし': 1, 'くしゃくしゃ': 1, '曲': 1, 'ゅうきょくをあらわしたのや': 1, '稜': 1, '鋼玉': 1, 'ひたし': 1, 'ひたっ': 1, 'うい': 1, '川上': 1, '運動': 1, '掘': 1, 'ほり': 1, '埋める': 1, '屈': 1, '道具': 1, 'ピカッ': 1, 'みよ': 1, '瀬戸物': 1, 'ものの': 1, 'つるつる': 1, '標札': 1, 'ところどころ': 1, '欄干': 1, '木製': 1, 'ベンチ': 1, '細長い': 1, '大きい': 1, 'もい': 1, 'ぎざぎざ': 1, '近': 1, 'よって': 1, '稲妻': 1, '貝殻': 1, '穂': 1, '近付い': 1, '近眼': 1, '鏡': 1, '長靴': 1, 'ぐつをはいた': 1, '学者': 1, '手帳': 1, 'せわし': 1, '書きつけ': 1, '鶴嘴': 1, '助手': 1, 'むちゅうでいろいろ': 1, '指図': 1, '突起': 1, '壊': 1, 'こわさ': 1, '使い': 1, '乱暴': 1, 'たおれ': 1, '掘り出さ': 1, '蹄': 1, 'づめの': 1, '足跡': 1, '四角': 1, '切り取ら': 1, '番号': 1, '君たち': 1, '参観': 1, '眼鏡': 1, 'めがね': 1, '話しかけ': 1, 'ざっと': 1, '三紀': 1, '貝がら': 1, 'そっくり': 1, '塩水': 1, '鑿': 1, 'のみ': 1, '先祖': 1, '昔': 1, '要': 1, '証拠': 1, 'ょうこもいろいろあがるけれども': 1, 'やつ': 1, 'やし': 1, '肋骨': 1, '埋もれ': 1, '腕時計': 1, 'けいと': 1, 'くらべ': 1, '失礼': 1, '忙': 1, 'いそがし': 1, '監督': 1, 'とく': 1, '走れ': 1, '息も': 1, '切れ': 1, 'あつく': 1, '世界中': 1, 'れる': 1, 'がさがさ': 1, '親切': 1, '大人': 1, 'ぼろぼろ': 1, 'つつん': 1, '分け': 1, '掛': 1, '髯': 1, 'かがん': 1, 'すぼめ': 1, '微笑': 1, 'のせ': 1, 'てんじょう': 1, '甲虫': 1, 'かぶとむし': 1, 'なつかし': 1, 'おずおず': 1, 'じっさい': 1, '尖っ': 1, 'かぶり': 1, '腰': 1, 'こし': 1, '下げ': 1, '別に': 1, 'ぴくぴく': 1, 'ぎも': 1, '聞か': 1, '聞える': 1, 'ぎですか': 1, 'どっち': 1, 'うさ': 1, 'ぎというものは': 1, '凝': 1, 'こごっ': 1, '始終': 1, '川原': 1, '地べた': 1, 'つか': 1, 'ちまう': 1, 'じまい': 1, '切っ': 1, 'かしげ': 1, '不審': 1, 'ふし': 1, '手ばやく': 1, '浮彫': 1, 'うき': 1, 'ぼり': 1, '三日月': 1, '瞑': 1, 'さわり': 1, '槍': 1, '風呂敷': 1, 'ふろしき': 1, '紐': 1, 'ひも': 1, 'くくり': 1, 'なんぞ': 1, 'しかし': 1, '売れ': 1, 'ずっと': 1, '柄': 1, '別': 1, '黄': 1, 'ひかる': 1, 'くちばし': 1, '揃': 1, 'ひっぱり': 1, 'ちぎっ': 1, 'ぱりぽくぽくそれをたべていました': 1, '遠慮': 1, 'えん': 1, 'ょしましたら': 1, 'すみません': 1, 'どういたしまして': 1, 'どり': 1, '景気': 1, 'すてき': 1, '限': 1, '規則': 1, '以外': 1, 'せる': 1, '電話': 1, '故障': 1, 'なあに': 1, 'やる': 1, '渡り鳥': 1, 'べらぼう': 1, '苦情': 1, 'おれ': 1, 'ねえや': 1, 'ばさばさ': 1, 'マント': 1, '途方': 1, 'やれ': 1, '訊こ': 1, '向き直り': 1, '置く': 1, 'かね': 1, 'うずめ': 1, 'ぁいけないんだ': 1, 'そうすると': 1, 'おなじ': 1, 'みえ': 1, '尋': 1, '見合せ': 1, 'にやにや': 1, '伸のび': 1, 'こぐ': 1, 'まじめ': 1, '奇': 1, '体': 1, '途端': 1, 'とたん': 1, 'ょういろの': 1, 'ぎゃあぎゃあ': 1, '舞': 1, 'まいおり': 1, 'ほくほく': 1, '両足': 1, 'かたっ': 1, '端': 1, 'ぱしから': 1, '押え': 1, '布': 1, '入れる': 1, 'つぶる': 1, '無事': 1, '降りる': 1, '多かっ': 1, '否': 1, '融': 1, '縮': 1, 'ちぢまっ': 1, '熔鉱炉': 1, '汁': 1, 'しる': 1, '暗く': 1, '鉄砲': 1, '弾': 1, 'にあたって': 1, '却': 1, 'かえって': 1, 'せいせい': 1, '恰度': 1, '合う': 1, '稼': 1, 'かせい': 1, 'いっぺんに': 1, '問い': 1, '考えつき': 1, '思い出そ': 1, '九': 1, '区': 1, '名高い': 1, 'アルビレオ': 1, '観測': 1, '建物': 1, '棟': 1, 'むね': 1, '平': 1, '屋根': 1, '宝玉': 1, '重なり合っ': 1, 'つくり': 1, 'ふくらみ': 1, '中心': 1, '外そ': 1, '逆': 1, '繰': 1, 'くり返し': 1, 'かこま': 1, '測候所': 1, 'よこたわっ': 1, 'はかる': 1, '器械': 1, '拝見': 1, 'しゃしょ': 1, 'そらし': 1, 'うごかし': 1, 'もしか': 1, '畳': 1, 'たたん': 1, '折っ': 1, 'はがき': 1, 'ちまえ': 1, '立ち直っ': 1, '叮寧': 1, '読み': 1, '熱心': 1, '書': 1, '空間': 1, '大丈夫': 1, 'だいじょうぶ': 1, 'よろしゅう': 1, '着き': 1, '待ち兼ね': 1, 'のぞきこみ': 1, '唐草': 1, 'からく': 1, '模様': 1, '印刷': 1, '吸い': 1, '勝手': 1, 'あるける': 1, '通行': 1, '券': 1, 'なるほど': 1, '不完全': 1, '幻想': 1, '畳ん': 1, '鷲': 1, 'わし': 1, '較': 1, 'みくらべ': 1, 'ぎをつかまえてせいせいしたとよろこんだり': 1, 'いきれ': 1, '横目': 1, 'ほめ': 1, '一一': 1, '見ず知らず': 1, '食べる': 1, 'ほしい': 1, 'それでは': 1, 'ぬけ': 1, '返っ': 1, 'ふんばっ': 1, '捕る': 1, '砂子': 1, '広': 1, '言わ': 1, '邪魔': 1, 'じゃま': 1, 'てこ': 1, '気もち': 1, 'いばら': 1, 'つやつや': 1, 'かみ': 1, '六つ': 1, 'ジャケツ': 1, 'ひどく': 1, 'がたがた': 1, '洋服': 1, 'ふか': 1, 'やき': 1, '姿勢': 1, 'ひい': 1, 'あいらしい': 1, 'すがっ': 1, 'ランカシャイヤ': 1, 'コンネクテカット': 1, '召': 1, 'めさ': 1, 'よろこび': 1, '額': 1, 'しわ': 1, '無理': 1, 'やさしく': 1, 'なお': 1, '悲し': 1, 'しくしく': 1, 'きくよ': 1, 'もうすぐ': 1, 'いらっしゃい': 1, 'どんなに': 1, '永く': 1, '大事': 1, 'タダ': 1, 'シ': 1, 'つない': 1, 'にわとこ': 1, 'あそん': 1, 'お目にかかり': 1, '乗ら': 1, 'ぁよかったなあ': 1, '夏': 1, 'リトル': 1, 'スター': 1, 'やすむ': 1, 'いつも': 1, '教える': 1, '代り': 1, '乗れ': 1, 'お家': 1, 'なで': 1, '慰': 1, 'いえ': 1, 'しずみ': 1, 'こちら': 1, 'ヶ月': 1, '一足': 1, '本国': 1, '発': 1, '大学': 1, '家庭': 1, '教師': 1, 'やとわ': 1, '目': 1, '昨日': 1, 'きのう': 1, '傾か': 1, 'むき': 1, '非常': 1, '深かっ': 1, '左舷': 1, '乗り切ら': 1, '必死': 1, '乗せ': 1, 'まだまだ': 1, 'おしのける': 1, '勇気': 1, '義務': 1, '押しのけよ': 1, 'あげる': 1, 'そむく': 1, '罪': 1, 'しょっ': 1, 'ぜひとも': 1, 'キス': 1, '腸': 1, 'はらわ': 1, 'ちぎれる': 1, 'そのうち': 1, 'ずんずん': 1, '覚悟': 1, '抱': 1, 'うかべる': 1, '浮ぼ': 1, '沈む': 1, 'ライフ': 1, 'ブイ': 1, '滑': 1, 'すべっ': 1, '甲板': 1, 'かんぱん': 1, '格子': 1, 'とりつき': 1, 'たちまち': 1, '国語': 1, '渦': 1, '没': 1, 'なくなら': 1, '助かっ': 1, 'ちがい': 1, '熟練': 1, '水夫': 1, '漕': 1, '小さ': 1, '思い出し': 1, 'こおりつく': 1, '潮水': 1, '寒': 1, 'たたかっ': 1, '一生': 1, 'けんめい': 1, 'はたらい': 1, 'すま': 1, 'ふさぎ': 1, 'しあわせ': 1, 'ただしい': 1, '進む': 1, '峠': 1, '近づく': 1, '至る': 1, 'おぼしめし': 1, '祈る': 1, 'ょうだいはもうつかれてめいめいぐったり': 1, 'よりかかっ': 1, '幻': 1, '大小': 1, '点点': 1, '測量': 1, 'それら': 1, '狼煙': 1, 'ょういろのそらにうちあげられるのでした': 1, '奇麗': 1, '紅': 1, 'いろどら': 1, '落さ': 1, 'どっか': 1, 'もり': 1, '細く': 1, 'まげ': 1, '坊': 1, 'ぼっ': 1, '坊ちゃん': 1, 'いわ': 1, 'しゃくにさわっ': 1, '送っ': 1, '両': 1, 'ょううでがあいたのでこんどは': 1, '睡っ': 1, '置き': 1, 'つくづく': 1, 'てい': 1, '約束': 1, 'やく': 1, 'そく': 1, '折れ': 1, '望む': 1, '種子': 1, 'まけ': 1, '米': 1, '殻': 1, 'かす': 1, 'によって': 1, 'ちら': 1, 'ぱっちり': 1, '戸棚': 1, 'ひろっ': 1, 'ちゃっ': 1, 'おこし': 1, 'おき': 1, 'まぶし': 1, 'パイ': 1, '折角': 1, 'せっかく': 1, '皮': 1, 'コルク': 1, 'ぬき': 1, '床': 1, '落ちる': 1, '大切': 1, '茂': 1, 'しげっ': 1, 'ベル': 1, 'ジロフォン': 1, 'まじっ': 1, '浸し': 1, 'くっ': 1, 'ふるう': 1, '譜': 1, 'ふ': 1, '敷物': 1, '蝋': 1, '面': 1, 'かすめ': 1, '呼ば': 1, 'ぎだ': 1, '叱': 1, 'しかる': 1, 'びこうを': 1, '受け': 1, 'ぎですねえ': 1, 'ぴんと': 1, 'とりなす': 1, 'うっとうし': 1, '讃': 1, '美歌': 1, 'びかのふしが': 1, '人数': 1, '合唱': 1, '思いかえし': 1, 'すわり': 1, '歌い': 1, '強く': 1, '橄欖': 1, 'さめざめ': 1, '楽器': 1, '風の音': 1, 'すり': 1, '耗': 1, 'へらさ': 1, 'とか': 1, 'くじゃく': 1, 'こたえ': 1, '貝': 1, 'さっ': 1, 'とじ': 1, '反射': 1, 'ハープ': 1, '組ま': 1, '寛': 1, '赤旗': 1, '指揮': 1, '者': 1, 'ざあっと': 1, 'ょういろのがらんとした': 1, '実に': 1, 'くみ': 1, 'どら': 1, 'ぐらの': 1, 'ょうきのようにふりうごかしました': 1, '通ら': 1, '同時に': 1, 'ぴしゃぁんという': 1, '起っ': 1, 'しいんと': 1, 'さけん': 1, 'それと': 1, 'かがやか': 1, 'あおぎ': 1, 'はなしかけ': 1, '生意気': 1, 'むすん': 1, 'ほっと': 1, 'こめ': 1, '教え': 1, 'わたり': 1, 'おぼつかな': 1, 'ぃんとなりました': 1, 'つらかっ': 1, 'もた': 1, 'なけれ': 1, 'しずめる': 1, 'ほてっ': 1, '痛い': 1, 'たま': 1, 'おさえる': 1, '泪': 1, '下る': 1, 'したがっ': 1, '縮れ': 1, '苞': 1, '吐': 1, '真珠': 1, '増し': 1, 'ならび': 1, 'ほとんど': 1, 'さやさや': 1, 'ゆらぎ': 1, '日光': 1, '吸っ': 1, 'きらきら': 1, 'えと': 1, 'なおり': 1, 'てんてつ': 1, '示し': 1, 'なくなり': 1, 'カチッカチッ': 1, '正しく': 1, 'たえ': 1, '旋律': 1, 'せんりつ': 1, '糸': 1, 'きょうがく': 1, '丈': 1, '高': 1, 'たけ': 1, '動き出し': 1, 'まか': 1, '峡谷': 1, 'コロラド': 1, '絹': 1, '突然': 1, 'とつぜん': 1, 'わき': 1, 'につけ': 1, 'かざり': 1, '矢': 1, 'つがえ': 1, '追いかけ': 1, '猟': 1, 'りょう': 1, '踊': 1, 'おどる': 1, '踊っ': 1, 'ふみ': 1, '経済': 1, '本気': 1, 'たおれる': 1, '羽': 1, 'つる': 1, 'ふらふら': 1, '落ちこみ': 1, 'うれし': 1, '碍子': 1, 'いし': 1, '側': 1, '谷': 1, 'はばひろく': 1, '水面': 1, '容易': 1, '傾斜': 1, 'いしゃ': 1, '老人': 1, 'かかる': 1, 'のぞけ': 1, '小屋': 1, 'しょんぼり': 1, '倒れる': 1, 'しがみつい': 1, '横手': 1, '激': 1, 'たらしく': 1, 'あかい': 1, 'なでしこ': 1, 'ようやく': 1, '落ち着い': 1, '架': 1, '架橋': 1, '演習': 1, 'どぉ': 1, 'ぱだよ': 1, 'こおどり': 1, '鮭': 1, '腹': 1, '光らせ': 1, '抛': 1, 'ほうり出さ': 1, '描い': 1, '大隊': 1, 'はねあげ': 1, 'さかな': 1, '機嫌': 1, 'さして': 1, '低い': 1, 'ょうででもこさえたような': 1, '彗星': 1, 'ギーギーフーギーギーフー': 1, 'ちゃん': 1, 'べつ': 1, 'てら': 1, '楊': 1, 'なぎ': 1, '燃さ': 1, 'ょういろのつめたそうな': 1, '焦': 1, 'こがし': 1, 'ルビー': 1, 'すきとおり': 1, 'リチウム': 1, '酔': 1, '燃やせ': 1, '首っ引き': 1, 'ってな': 1, 'やけ': 1, '聴い': 1, '博物館': 1, '螫': 1, 'さされる': 1, 'バルドラ': 1, '殺し': 1, '生き': 1, 'みつかっ': 1, '食べ': 1, 'けど': 1, '井戸': 1, 'あがら': 1, '溺': 1, 'おぼれ': 1, 'とら': 1, 'れよ': 1, '生きのび': 1, '心': 1, 'むなしく': 1, 'すて': 1, '次に': 1, 'はまこ': 1, 'つかい': 1, 'よる': 1, 'やみ': 1, 'おっしゃっ': 1, '五つ': 1, 'につれて': 1, 'ぎやかなさまざまの': 1, '楽': 1, '草花': 1, '人々': 1, 'あそこ': 1, 'クリスマス': 1, 'トリイ': 1, '唐': 1, 'ひか': 1, 'まめ': 1, 'でん': 1, '村': 1, '原稿': 1, 'ボール': 1, 'はずさ': 1, '威張': 1, 'ばり': 1, 'そわそわ': 1, 'ぁいけないのです': 1, 'きちっと': 1, '結ん': 1, '厭い': 1, '兼ね': 1, 'ぁいけないのよ': 1, 'ぁいけないって': 1, '母さん': 1, 'らっしゃる': 1, 'おっしゃる': 1, '知り': 1, '祈り': 1, '組み': 1, '別れ': 1, '惜': 1, 'おし': 1, 'あぶなく': 1, 'やも': 1, 'かがやき': 1, 'まるい': 1, 'お祈り': 1, '瓜': 1, '飛': 1, 'びついたときのようなよろこびの': 1, 'つつましい': 1, 'ためいき': 1, 'きこえ': 1, '肉': 1, '繞': 1, 'ハルレヤハルレヤ': 1, 'たのしく': 1, 'ラッパ': 1, '向い': 1, '下りる': 1, '出口': 1, 'いかにも': 1, 'つら': 1, '一度': 1, '空い': 1, 'こみ': 1, 'こうごうしい': 1, 'のばし': 1, '呼子': 1, 'びこは': 1, '鳴らさ': 1, 'うごき': 1, '光らし': 1, '栗鼠': 1, 'りす': 1, 'はれ': 1, '街道': 1, 'ぽかっと': 1, 'つるさ': 1, '方角': 1, '見分け': 1, 'かまわ': 1, '力': 1, 'くろ': 1, 'さける': 1, 'どれほど': 1, 'おく': 1, 'しんしん': 1, '痛む': 1, 'こわく': 1, 'なんて': 1, '河岸': 1, '電信': 1, '腕木': 1, 'つらね': 1, 'いびろ': 1, 'ひかっ': 1, '乗り出し': 1, '力いっぱい': 1, '咽喉': 1, 'ひらき': 1, 'おかしく': 1, 'ほてり': 1, 'ばね': 1, '起き': 1, '綴': 1, 'つづっ': 1, '熱し': 1, 'であるい': 1, '殊': 1, '右': 1, '蠍': 1, 'ざの': 1, 'きらめき': 1, '位置': 1, '変っ': 1, '夕ごはん': 1, '思いださ': 1, 'まつの': 1, 'さく': 1, '牛舎': 1, '樽': 1, 'たる': 1, '乗っけ': 1, '太い': 1, 'ぼん': 1, 'ご用': 1, 'ぎゅうにゅうびんをもって': 1, 'ぎうっかりしてこうしの': 1, '早速': 1, '呑ん': 1, '熱い': 1, '包む': 1, '大通り': 1, '十文字': 1, '流し': 1, 'ひそひそ': 1, 'あっと': 1, '冷たく': 1, '叫ぶ': 1, '一斉': 1, 'いっせいに': 1, '巡査': 1, 'じゅん': 1, '袂': 1, 'たもと': 1, '飛ぶ': 1, '水際': 1, 'ぎわに': 1, '下っ': 1, '八つ': 1, 'おして': 1, '落っ': 1, 'こっ': 1, '飛びこん': 1, '押し': 1, 'カトウ': 1, 'つかまっ': 1, '探し': 1, 'みつ': 1, '連れ': 1, '学生': 1, 'あご': 1, '一言': 1, 'アセチレン': 1, 'ランプ': 1, 'おおきく': 1, '写っ': 1, 'しかた': 1, '泳い': 1, '知ら': 1, '洲': 1, '着い': 1, 'きっぱり': 1, '駄目': 1, 'かけよっ': 1, 'しげしげ': 1, '叮': 1, '堅': 1, 'かたく': 1, '握': 1, 'ぎったまままたききました': 1, '便り': 1, '放課後': 1, '知らせよ': 1})\n"
          ],
          "name": "stdout"
        }
      ]
    },
    {
      "cell_type": "markdown",
      "metadata": {
        "id": "PgV08vtT4SrP",
        "colab_type": "text"
      },
      "source": [
        "# word2vecの概要\n",
        "\n",
        "## one-hot表現\n",
        "\n",
        "文章をベクトル化\n",
        "\n",
        "  e.g.\n",
        "\n",
        "  すもも も もも も もも の うち\n",
        "\n",
        "  ||すもも|も|もも|の|うち|\n",
        "  |---|---|---|---|---|---|\n",
        "  |ID|0|1|2|3|4|\n",
        "\n",
        "  > 「すもも」は [1 0 0 0 0]  \n",
        "  > 「も」は [0 1 0 0 0]\n",
        "\n",
        "\n",
        "## 分散表現\n",
        "\n",
        "単語間の関係性や類似度に基づくベクトルで単語を表現\n",
        "> 200要素程度のベクトルで表現\n",
        "\n",
        "## word2vecとは\n",
        "\n",
        "- 分散表現を作成することができる。\n",
        "- CBOWか、skip-gramというニューラルネットワークが用いられる。\n",
        "- CBOWは周りの単語から特定の単語を予想、skip-gramは一つの単語から周りの単語を予想\n",
        "\n",
        "## doc2vec\n",
        "\n",
        "- word2vecの文章へ拡張版\n",
        "- dmpvかDBOWというニューラルネットワークが用いられる。\n",
        "- onehot表現の文書IDを入力層に含める。"
      ]
    },
    {
      "cell_type": "markdown",
      "metadata": {
        "id": "yHQIywxj8wRw",
        "colab_type": "text"
      },
      "source": [
        "# word2vecでの学習\n"
      ]
    },
    {
      "cell_type": "code",
      "metadata": {
        "id": "9PGz2nRh3z1G",
        "colab_type": "code",
        "colab": {}
      },
      "source": [
        "from gensim.models import word2vec\n",
        "\n",
        "# size : 中間層のニューロン数\n",
        "# min_count : この値以下の出現回数の単語を無視\n",
        "# window : 対象単語を中心とした前後の単語数\n",
        "# iter : epochs数\n",
        "# sg : skip-gramを使うかどうか 0:CBOW 1:skip-gram\n",
        "model = word2vec.Word2Vec(data_list,\n",
        "                          size=100,\n",
        "                          min_count=5,\n",
        "                          window=5,\n",
        "                          iter=20,\n",
        "                          sg = 0)"
      ],
      "execution_count": 0,
      "outputs": []
    },
    {
      "cell_type": "code",
      "metadata": {
        "id": "FQxzONhC9mBi",
        "colab_type": "code",
        "colab": {
          "base_uri": "https://localhost:8080/",
          "height": 255
        },
        "outputId": "eb333a62-c5c7-4918-ef07-99db81a6e773"
      },
      "source": [
        "print(model.wv.vectors.shape) # 分散表現の形状\n",
        "print(model.wv.vectors) # 分散表現\n",
        "\n",
        "# (427, 100)は単語数、中間層のニューロン数"
      ],
      "execution_count": 59,
      "outputs": [
        {
          "output_type": "stream",
          "text": [
            "(427, 100)\n",
            "[[ 0.11323837 -0.09959874  0.08260114 ...  0.5412286   0.2127491\n",
            "   0.10402833]\n",
            " [ 0.06485976  0.10506245 -0.14574328 ...  0.31220287  0.10628448\n",
            "  -0.46253544]\n",
            " [ 0.18034074  0.29368228 -0.16179486 ...  0.07489827  0.20305867\n",
            "  -0.2877504 ]\n",
            " ...\n",
            " [ 0.06341001  0.0374797  -0.06044163 ...  0.20664063  0.06052839\n",
            "  -0.10745423]\n",
            " [ 0.06220559  0.02913703 -0.06832641 ...  0.3177256  -0.02576601\n",
            "  -0.15959825]\n",
            " [ 0.03829075  0.01370631 -0.04303578 ...  0.253046   -0.09430012\n",
            "  -0.09679323]]\n"
          ],
          "name": "stdout"
        }
      ]
    },
    {
      "cell_type": "code",
      "metadata": {
        "id": "n75wxQ9Y9xfY",
        "colab_type": "code",
        "colab": {
          "base_uri": "https://localhost:8080/",
          "height": 51
        },
        "outputId": "ce166bfe-1553-4fb1-8e6c-20708b3ffaad"
      },
      "source": [
        "print(len(model.wv.index2word)) # 語彙の数\n",
        "print(model.wv.index2word[:10]) # 最初の10単語"
      ],
      "execution_count": 61,
      "outputs": [
        {
          "output_type": "stream",
          "text": [
            "427\n",
            "['の', 'い', 'た', 'し', '。', 'て', 'っ', 'ま', '、', 'う']\n"
          ],
          "name": "stdout"
        }
      ]
    },
    {
      "cell_type": "code",
      "metadata": {
        "id": "ptz8uPFt-GxW",
        "colab_type": "code",
        "colab": {
          "base_uri": "https://localhost:8080/",
          "height": 595
        },
        "outputId": "e42ee1e1-07cf-4032-d1f1-2e12ed868497"
      },
      "source": [
        "print(model.wv.vectors[0]) # 最初のベクトル\n",
        "print(model.wv.__getitem__(\"の\")) # 最初の単語「の」のベクトル\n",
        "\n",
        "# 比較してみると同じ内容"
      ],
      "execution_count": 63,
      "outputs": [
        {
          "output_type": "stream",
          "text": [
            "[ 0.11323837 -0.09959874  0.08260114  0.4122717  -0.01296563 -0.16620994\n",
            "  0.57949233  0.18216312 -0.39427075  0.18329181  0.04115144 -0.46303362\n",
            "  0.4000141  -0.03563368  0.28833938  0.18535472  0.3263829  -0.623888\n",
            " -0.2700665  -0.02933412  0.27281895  0.00266816 -0.2333858   0.24917844\n",
            "  0.10447097 -0.5358753   0.3246491  -0.27420458 -0.40509263  0.20537242\n",
            "  0.12433947  0.37597364 -0.14543201 -0.16314425  0.14193368  0.22872667\n",
            "  0.3634936  -0.13305543  0.01614697  0.18773752  0.28327385 -0.12788466\n",
            "  0.238077    0.18733153  0.34863234  0.74396724 -0.31890774  0.09086978\n",
            " -0.12303212 -0.3523805   0.18846624 -0.06741542  0.22612685  0.56744164\n",
            " -0.28928825  0.15427847 -0.34380606  0.01379847  0.0427676  -0.0328049\n",
            " -0.344064   -0.04145443  0.2128197   0.19362967 -0.46583596 -0.516412\n",
            "  0.15249829  0.1085792  -0.24999808  0.26825583 -0.0435049   0.33676326\n",
            " -0.21998969  0.13834676  0.17566587 -0.5901829   0.25690308  0.53360605\n",
            "  0.24517316  0.08687814 -0.05408917  0.18348303  0.09009954  0.06520365\n",
            " -0.24456292 -0.09817181 -0.04430746  0.22096701  0.42474297  0.43377817\n",
            "  0.35468012 -0.22707275 -0.3684193   0.0532448  -0.15573992 -0.0537245\n",
            " -0.23524114  0.5412286   0.2127491   0.10402833]\n",
            "[ 0.11323837 -0.09959874  0.08260114  0.4122717  -0.01296563 -0.16620994\n",
            "  0.57949233  0.18216312 -0.39427075  0.18329181  0.04115144 -0.46303362\n",
            "  0.4000141  -0.03563368  0.28833938  0.18535472  0.3263829  -0.623888\n",
            " -0.2700665  -0.02933412  0.27281895  0.00266816 -0.2333858   0.24917844\n",
            "  0.10447097 -0.5358753   0.3246491  -0.27420458 -0.40509263  0.20537242\n",
            "  0.12433947  0.37597364 -0.14543201 -0.16314425  0.14193368  0.22872667\n",
            "  0.3634936  -0.13305543  0.01614697  0.18773752  0.28327385 -0.12788466\n",
            "  0.238077    0.18733153  0.34863234  0.74396724 -0.31890774  0.09086978\n",
            " -0.12303212 -0.3523805   0.18846624 -0.06741542  0.22612685  0.56744164\n",
            " -0.28928825  0.15427847 -0.34380606  0.01379847  0.0427676  -0.0328049\n",
            " -0.344064   -0.04145443  0.2128197   0.19362967 -0.46583596 -0.516412\n",
            "  0.15249829  0.1085792  -0.24999808  0.26825583 -0.0435049   0.33676326\n",
            " -0.21998969  0.13834676  0.17566587 -0.5901829   0.25690308  0.53360605\n",
            "  0.24517316  0.08687814 -0.05408917  0.18348303  0.09009954  0.06520365\n",
            " -0.24456292 -0.09817181 -0.04430746  0.22096701  0.42474297  0.43377817\n",
            "  0.35468012 -0.22707275 -0.3684193   0.0532448  -0.15573992 -0.0537245\n",
            " -0.23524114  0.5412286   0.2127491   0.10402833]\n"
          ],
          "name": "stdout"
        }
      ]
    },
    {
      "cell_type": "code",
      "metadata": {
        "id": "iLA4TtJ5-d_n",
        "colab_type": "code",
        "colab": {
          "base_uri": "https://localhost:8080/",
          "height": 306
        },
        "outputId": "88e80cef-fe7a-4e16-ad47-2bb0e690bace"
      },
      "source": [
        "print(model.wv.__getitem__(\"私\"))"
      ],
      "execution_count": 65,
      "outputs": [
        {
          "output_type": "stream",
          "text": [
            "[ 0.0467767   0.04351317 -0.06948264 -0.01357511  0.21181104 -0.31629524\n",
            "  0.26650771  0.13361157 -0.28772938  0.14594972  0.04278775 -0.37133026\n",
            "  0.24864365 -0.20622788  0.2669287  -0.06321798  0.10299049 -0.13626632\n",
            " -0.08967514  0.15485029 -0.15568383  0.04017482  0.05601464 -0.19406222\n",
            " -0.03283972  0.03469712  0.20638168 -0.0684934  -0.16490531  0.06197615\n",
            " -0.00587906  0.17545159 -0.21293205 -0.06415036 -0.04238498  0.31561264\n",
            "  0.14921738  0.03731643  0.178132    0.09396508  0.03656662 -0.10028714\n",
            "  0.01066035  0.00620701 -0.06768333  0.06086613 -0.10198417 -0.13320312\n",
            " -0.01541441  0.06459045  0.28427666  0.23318085 -0.2223524   0.14422145\n",
            " -0.08782745 -0.01191904 -0.11027864 -0.35375544 -0.08645158 -0.07071187\n",
            " -0.06772446  0.09651441 -0.01032271  0.18249173 -0.11196776 -0.30080387\n",
            "  0.23287463  0.02923413 -0.21808001  0.0830661   0.11347182  0.13596301\n",
            " -0.19222073  0.17289238 -0.01072237 -0.12246118  0.21421528  0.02675363\n",
            "  0.15287577  0.19594552  0.03158141 -0.06715795  0.04936014 -0.05613121\n",
            " -0.24611561  0.07409053  0.10470708  0.04355322  0.25395635  0.03432441\n",
            "  0.10813773 -0.17402346  0.02467995  0.06919565 -0.00327782  0.04525506\n",
            " -0.01339336  0.37019864  0.10963136 -0.20071432]\n"
          ],
          "name": "stdout"
        }
      ]
    },
    {
      "cell_type": "code",
      "metadata": {
        "id": "fGNb4Ldi-see",
        "colab_type": "code",
        "colab": {
          "base_uri": "https://localhost:8080/",
          "height": 255
        },
        "outputId": "a6078920-5655-4c12-d4ca-a4fa5306c236"
      },
      "source": [
        "from gensim.models import word2vec\n",
        "\n",
        "# size : 中間層のニューロン数\n",
        "# min_count : この値以下の出現回数の単語を無視\n",
        "# window : 対象単語を中心とした前後の単語数\n",
        "# iter : epochs数\n",
        "# sg : skip-gramを使うかどうか 0:CBOW 1:skip-gram\n",
        "model = word2vec.Word2Vec(data_list,\n",
        "                          size=100,\n",
        "                          min_count=5,\n",
        "                          window=5,\n",
        "                          iter=20,\n",
        "                          sg = 1)\n",
        "\n",
        "print(model.wv.vectors.shape) # 分散表現の形状\n",
        "print(model.wv.vectors) # 分散表現"
      ],
      "execution_count": 67,
      "outputs": [
        {
          "output_type": "stream",
          "text": [
            "(427, 100)\n",
            "[[ 0.03271782  0.0394712  -0.20149425 ...  0.41505504  0.10377868\n",
            "   0.06507536]\n",
            " [ 0.09900256 -0.05785212 -0.03048166 ...  0.05810349 -0.09137753\n",
            "  -0.20172192]\n",
            " [ 0.18213116  0.07463927 -0.06494461 ...  0.00698161 -0.00905046\n",
            "  -0.11028991]\n",
            " ...\n",
            " [ 0.18977523  0.0074114  -0.13767843 ...  0.2990473   0.04249454\n",
            "  -0.10721708]\n",
            " [-0.0676184   0.0195322   0.1246663  ...  0.36605784  0.02310213\n",
            "   0.01500808]\n",
            " [-0.03710136  0.06054955  0.07731556 ...  0.33046612 -0.07634153\n",
            "   0.00461201]]\n"
          ],
          "name": "stdout"
        }
      ]
    },
    {
      "cell_type": "code",
      "metadata": {
        "id": "2rvCMkmE-1CU",
        "colab_type": "code",
        "colab": {}
      },
      "source": [
        ""
      ],
      "execution_count": 0,
      "outputs": []
    }
  ]
}