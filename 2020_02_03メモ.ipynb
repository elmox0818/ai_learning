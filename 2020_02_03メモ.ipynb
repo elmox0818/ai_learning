{
  "nbformat": 4,
  "nbformat_minor": 0,
  "metadata": {
    "colab": {
      "name": "2020-02-03メモ.ipynb",
      "provenance": [],
      "collapsed_sections": [],
      "authorship_tag": "ABX9TyNuzrK6oNHftsBhNnK8/EVk",
      "include_colab_link": true
    },
    "kernelspec": {
      "name": "python3",
      "display_name": "Python 3"
    }
  },
  "cells": [
    {
      "cell_type": "markdown",
      "metadata": {
        "id": "view-in-github",
        "colab_type": "text"
      },
      "source": [
        "<a href=\"https://colab.research.google.com/github/elmox0818/ai_learning/blob/master/2020_02_03%E3%83%A1%E3%83%A2.ipynb\" target=\"_parent\"><img src=\"https://colab.research.google.com/assets/colab-badge.svg\" alt=\"Open In Colab\"/></a>"
      ]
    },
    {
      "cell_type": "code",
      "metadata": {
        "id": "i6aMZS54k43b",
        "colab_type": "code",
        "colab": {}
      },
      "source": [
        ""
      ],
      "execution_count": 0,
      "outputs": []
    },
    {
      "cell_type": "markdown",
      "metadata": {
        "id": "-FhAC6Qtk51d",
        "colab_type": "text"
      },
      "source": [
        "# 正規分布\n",
        "\n",
        "## 平均値\n",
        "\n",
        "$$\n",
        "  \\mu = \\frac{x_1 + x_2 + \\cdots + x_n}{n}\n",
        "  = \\frac{1}{n}\\sum_{k=1}^{n} x_k\n",
        "$$\n"
      ]
    },
    {
      "cell_type": "code",
      "metadata": {
        "id": "ORODZM1plQwC",
        "colab_type": "code",
        "colab": {
          "base_uri": "https://localhost:8080/",
          "height": 34
        },
        "outputId": "f91edf3e-5a87-41ca-c3c1-9be7341a80a9"
      },
      "source": [
        "import numpy as np\n",
        "\n",
        "x = np.array([55,45,60,40])\n",
        "np.average(x)"
      ],
      "execution_count": 2,
      "outputs": [
        {
          "output_type": "execute_result",
          "data": {
            "text/plain": [
              "50.0"
            ]
          },
          "metadata": {
            "tags": []
          },
          "execution_count": 2
        }
      ]
    },
    {
      "cell_type": "markdown",
      "metadata": {
        "id": "SfO0P_uVmg4X",
        "colab_type": "text"
      },
      "source": [
        "## 分散\n",
        "\n",
        "値のばらつき具合を表す\n",
        "\n",
        "$$\n",
        "  V = \\frac{1}{n}\\sum_{k=1}^{n}(x_k - \\mu)^2\n",
        "$$"
      ]
    },
    {
      "cell_type": "code",
      "metadata": {
        "id": "b6vUo6cknmAs",
        "colab_type": "code",
        "colab": {
          "base_uri": "https://localhost:8080/",
          "height": 34
        },
        "outputId": "e2947aae-54f7-4adb-ddf7-bbb309061abe"
      },
      "source": [
        "import numpy as np\n",
        "\n",
        "x = np.array([55,45,60,40])\n",
        "np.var(x)"
      ],
      "execution_count": 3,
      "outputs": [
        {
          "output_type": "execute_result",
          "data": {
            "text/plain": [
              "62.5"
            ]
          },
          "metadata": {
            "tags": []
          },
          "execution_count": 3
        }
      ]
    },
    {
      "cell_type": "markdown",
      "metadata": {
        "id": "_6YoqzqNnvs8",
        "colab_type": "text"
      },
      "source": [
        "## 標準偏差\n",
        "\n",
        "値のばらつき具合、分散よりも直感的な数値を表す。\n",
        "\n",
        "$$\n",
        "  \\delta = \\sqrt{V} = \\sqrt{\\frac{1}{n}\\sum_{k=1}^{n}(x_k-\\mu)^2}\n",
        "$$\n",
        "\n",
        "\n",
        "\n",
        "> 確率密度関数 \n",
        ">横軸はある値を、縦軸は値の頻度や確率を表す。\n",
        ">μは平均値で分布中央、δは標準偏差で分布の広がり具合を表す。\n",
        "\n",
        "$$\n",
        "  y = \\frac{1}{\\delta\\sqrt{2\\pi}}\\exp(-\\frac{(x-\\mu)^2}{2\\delta^2})\n",
        "$$\n",
        "\n",
        "μ=0, δ=1とすると\n",
        "\n",
        "$$\n",
        "  y = \\frac{1}{\\sqrt{2\\pi}}\\exp(-\\frac{x^2}{2})\n",
        "$$\n",
        "\n"
      ]
    },
    {
      "cell_type": "code",
      "metadata": {
        "id": "jTfKiOmbntAU",
        "colab_type": "code",
        "colab": {
          "base_uri": "https://localhost:8080/",
          "height": 34
        },
        "outputId": "347ff13d-ec52-4eb9-c1ff-25c105b57882"
      },
      "source": [
        "import numpy as np\n",
        "\n",
        "x = np.array([55,45,60,40])\n",
        "np.std(x)"
      ],
      "execution_count": 4,
      "outputs": [
        {
          "output_type": "execute_result",
          "data": {
            "text/plain": [
              "7.905694150420948"
            ]
          },
          "metadata": {
            "tags": []
          },
          "execution_count": 4
        }
      ]
    },
    {
      "cell_type": "code",
      "metadata": {
        "id": "G4dKhW33o9lM",
        "colab_type": "code",
        "colab": {
          "base_uri": "https://localhost:8080/",
          "height": 265
        },
        "outputId": "6f93f8ba-2ed4-4605-cc25-c59803e5520a"
      },
      "source": [
        "import numpy as np\n",
        "import matplotlib.pyplot as plt\n",
        "\n",
        "sigma = 1 # 標準偏差\n",
        "mu = 0 # 平均値\n",
        "\n",
        "x = np.linspace(-5, 5)\n",
        "y = 1/(sigma*np.sqrt(2*np.pi))*np.exp(-(x-mu)**2 / (2*sigma**2)) # 確率密度関数\n",
        "\n",
        "plt.plot(x,y)\n",
        "plt.show()"
      ],
      "execution_count": 5,
      "outputs": [
        {
          "output_type": "display_data",
          "data": {
            "image/png": "[encoded data removed]",
            "text/plain": [
              "<Figure size 432x288 with 1 Axes>"
            ]
          },
          "metadata": {
            "tags": []
          }
        }
      ]
    },
    {
      "cell_type": "markdown",
      "metadata": {
        "id": "SzupPXMAtG3H",
        "colab_type": "text"
      },
      "source": [
        "# Pythonにおける正規表現\n",
        "\n",
        "## subによる置換\n",
        "\n",
        "re.subにより文字列の置換"
      ]
    },
    {
      "cell_type": "code",
      "metadata": {
        "id": "-HTf97w8p26S",
        "colab_type": "code",
        "colab": {
          "base_uri": "https://localhost:8080/",
          "height": 51
        },
        "outputId": "4b9149a5-0427-4409-924e-f4ddbd4a8fd0"
      },
      "source": [
        "import re\n",
        "\n",
        "s = \"私は柴犬が好きです。\"\n",
        "\n",
        "# 単体置換\n",
        "s = re.sub(\"柴犬\", \"シャムネコ\", s)\n",
        "print(s)\n",
        "\n",
        "s = \"私は黒犬と白猫が好きです。\"\n",
        "\n",
        "# 複数置換\n",
        "s = re.sub(\"[犬猫]\", \"馬\", s)\n",
        "print(s)"
      ],
      "execution_count": 9,
      "outputs": [
        {
          "output_type": "stream",
          "text": [
            "私はシャムネコが好きです。\n",
            "私は黒馬と白馬が好きです。\n"
          ],
          "name": "stdout"
        }
      ]
    },
    {
      "cell_type": "markdown",
      "metadata": {
        "id": "4XXcHziwtZMl",
        "colab_type": "text"
      },
      "source": [
        ""
      ]
    },
    {
      "cell_type": "code",
      "metadata": {
        "id": "ULLyZbXwtV6k",
        "colab_type": "code",
        "colab": {}
      },
      "source": [
        ""
      ],
      "execution_count": 0,
      "outputs": []
    }
  ]
}