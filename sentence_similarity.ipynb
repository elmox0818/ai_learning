{
  "nbformat": 4,
  "nbformat_minor": 0,
  "metadata": {
    "kernelspec": {
      "display_name": "Python 3",
      "language": "python",
      "name": "python3"
    },
    "language_info": {
      "codemirror_mode": {
        "name": "ipython",
        "version": 3
      },
      "file_extension": ".py",
      "mimetype": "text/x-python",
      "name": "python",
      "nbconvert_exporter": "python",
      "pygments_lexer": "ipython3",
      "version": "3.6.7"
    },
    "colab": {
      "name": "sentence_similarity.ipynb",
      "provenance": [],
      "include_colab_link": true
    }
  },
  "cells": [
    {
      "cell_type": "markdown",
      "metadata": {
        "id": "view-in-github",
        "colab_type": "text"
      },
      "source": [
        "<a href=\"https://colab.research.google.com/github/elmox0818/ai_learning/blob/master/sentence_similarity.ipynb\" target=\"_parent\"><img src=\"https://colab.research.google.com/assets/colab-badge.svg\" alt=\"Open In Colab\"/></a>"
      ]
    },
    {
      "cell_type": "markdown",
      "metadata": {
        "id": "FSr76Q8lnkUv",
        "colab_type": "text"
      },
      "source": [
        "# 文章の類似度\n",
        "Doc2Vecは、任意の長さの文書をベクトル化する技術です。  \n",
        "この技術を使って、文書やテキストの分散表現を獲得し、類似度を計算します。"
      ]
    },
    {
      "cell_type": "markdown",
      "metadata": {
        "id": "wzUtqdsfoCez",
        "colab_type": "text"
      },
      "source": [
        "# データ前処理\n",
        "\n",
        "## read csv, output csv"
      ]
    },
    {
      "cell_type": "code",
      "metadata": {
        "id": "4d5KGooHoFeq",
        "colab_type": "code",
        "colab": {
          "base_uri": "https://localhost:8080/",
          "height": 71
        },
        "outputId": "d17cf564-6b63-47f0-e385-cbea8c14dbfa"
      },
      "source": [
        "import pandas as pd\n",
        "\n",
        "df = pd.read_csv(\"qa.csv\")\n",
        "df[\"Problem\"].to_csv(\"problem.csv\")"
      ],
      "execution_count": 9,
      "outputs": [
        {
          "output_type": "stream",
          "text": [
            "/usr/local/lib/python3.6/dist-packages/ipykernel_launcher.py:4: FutureWarning: The signature of `Series.to_csv` was aligned to that of `DataFrame.to_csv`, and argument 'header' will change its default value from False to True: please pass an explicit value to suppress this warning.\n",
            "  after removing the cwd from sys.path.\n"
          ],
          "name": "stderr"
        }
      ]
    },
    {
      "cell_type": "code",
      "metadata": {
        "id": "K6xdljAWpPiQ",
        "colab_type": "code",
        "colab": {}
      },
      "source": [
        "import csv\n",
        "df = pd.read_csv(\"problem.csv\")\n",
        "with open(\"problem.csv\", \"r\") as f:\n",
        "  reader = csv.reader(f)\n",
        "\n",
        "  for row in reader:\n",
        "    with open(\"./problem.txt\", \"a\") as fa:\n",
        "      fa.write(row[1]+\"\\n\")\n",
        "  "
      ],
      "execution_count": 0,
      "outputs": []
    },
    {
      "cell_type": "code",
      "metadata": {
        "id": "JwG_n9MFqZzX",
        "colab_type": "code",
        "colab": {
          "base_uri": "https://localhost:8080/",
          "height": 85
        },
        "outputId": "5b22c67f-ece4-4608-aaa9-1e9b41425b04"
      },
      "source": [
        "!head -n 3 problem.txt"
      ],
      "execution_count": 25,
      "outputs": [
        {
          "output_type": "stream",
          "text": [
            "リンク部品の柔剛サブアセンブリがうまく動作しない\n",
            "干渉チェック時に、「接触」のはずなのに、「干渉」と認識される\n",
            "ツリーに「ルールベース」ができた\n",
            "Requirement already satisfied: janome in /usr/local/lib/python3.6/dist-packages (0.3.10)\n"
          ],
          "name": "stdout"
        }
      ]
    },
    {
      "cell_type": "code",
      "metadata": {
        "id": "hU8WBIJksIDS",
        "colab_type": "code",
        "colab": {
          "base_uri": "https://localhost:8080/",
          "height": 1000
        },
        "outputId": "54afadcb-8f54-4e70-cecf-c035f85fde67"
      },
      "source": [
        "# 除去する部分を確認\n",
        "#全ての行数を出力するよう設定\n",
        "pd.set_option('display.max_rows', None)\n",
        "df.iloc[:50,1:2]"
      ],
      "execution_count": 32,
      "outputs": [
        {
          "output_type": "execute_result",
          "data": {
            "text/html": [
              "<div>\n",
              "<style scoped>\n",
              "    .dataframe tbody tr th:only-of-type {\n",
              "        vertical-align: middle;\n",
              "    }\n",
              "\n",
              "    .dataframe tbody tr th {\n",
              "        vertical-align: top;\n",
              "    }\n",
              "\n",
              "    .dataframe thead th {\n",
              "        text-align: right;\n",
              "    }\n",
              "</style>\n",
              "<table border=\"1\" class=\"dataframe\">\n",
              "  <thead>\n",
              "    <tr style=\"text-align: right;\">\n",
              "      <th></th>\n",
              "      <th>トップアッシに新規サブアッシを追加後、CGR置換すると追加したアセンブリが表示されなくなる</th>\n",
              "    </tr>\n",
              "  </thead>\n",
              "  <tbody>\n",
              "    <tr>\n",
              "      <th>0</th>\n",
              "      <td>リンク部品の柔剛サブアセンブリがうまく動作しない</td>\n",
              "    </tr>\n",
              "    <tr>\n",
              "      <th>1</th>\n",
              "      <td>干渉チェック時に、「接触」のはずなのに、「干渉」と認識される</td>\n",
              "    </tr>\n",
              "    <tr>\n",
              "      <th>2</th>\n",
              "      <td>ツリーに「ルールベース」ができた</td>\n",
              "    </tr>\n",
              "    <tr>\n",
              "      <th>3</th>\n",
              "      <td>抜き勾配のついた形状をモデリングしたい</td>\n",
              "    </tr>\n",
              "    <tr>\n",
              "      <th>4</th>\n",
              "      <td>複数セクションサーフェスで面が作成できない</td>\n",
              "    </tr>\n",
              "    <tr>\n",
              "      <th>5</th>\n",
              "      <td>あるモデルで抽出時に、ツリーアイコンに「F」マークがつく</td>\n",
              "    </tr>\n",
              "    <tr>\n",
              "      <th>6</th>\n",
              "      <td>海外取引先からCATIAデータが送られてきたがバージョンが異なるので読み込むことができない</td>\n",
              "    </tr>\n",
              "    <tr>\n",
              "      <th>7</th>\n",
              "      <td>展開形状にて寸法指示のある部品の展開形状の作成方法</td>\n",
              "    </tr>\n",
              "    <tr>\n",
              "      <th>8</th>\n",
              "      <td>グリップの形状にてスイープ面にエッジが立つ</td>\n",
              "    </tr>\n",
              "    <tr>\n",
              "      <th>9</th>\n",
              "      <td>ボディをコピーすると、貼り付けエラーが発生する</td>\n",
              "    </tr>\n",
              "    <tr>\n",
              "      <th>10</th>\n",
              "      <td>干渉チェック時に、「接触」のはずなのに、「干渉」と認識される</td>\n",
              "    </tr>\n",
              "    <tr>\n",
              "      <th>11</th>\n",
              "      <td>モデル編集後、ブール演算ができなくなた</td>\n",
              "    </tr>\n",
              "    <tr>\n",
              "      <th>12</th>\n",
              "      <td>ソリッド形状が表示されない</td>\n",
              "    </tr>\n",
              "    <tr>\n",
              "      <th>13</th>\n",
              "      <td>チェックインしようとしたらエラー</td>\n",
              "    </tr>\n",
              "    <tr>\n",
              "      <th>14</th>\n",
              "      <td>新規で作成したものをチェックインしようとしたら「すでに存在する」とメッセージが出る。続行ボタ...</td>\n",
              "    </tr>\n",
              "    <tr>\n",
              "      <th>15</th>\n",
              "      <td>「ローカルファイル保持」をしていないのにworkフォルダにデータが残っている</td>\n",
              "    </tr>\n",
              "    <tr>\n",
              "      <th>16</th>\n",
              "      <td>「送る」にて、コピーエラーが出る。</td>\n",
              "    </tr>\n",
              "    <tr>\n",
              "      <th>17</th>\n",
              "      <td>「送る」にて、”名前が重複している”と問題欄に出て、コピーできない</td>\n",
              "    </tr>\n",
              "    <tr>\n",
              "      <th>18</th>\n",
              "      <td>取引先から、satにてデータがきたが、読み込めるか</td>\n",
              "    </tr>\n",
              "    <tr>\n",
              "      <th>19</th>\n",
              "      <td>cgrファイルの中にパーツが作成できてしまった</td>\n",
              "    </tr>\n",
              "    <tr>\n",
              "      <th>20</th>\n",
              "      <td>古いリビジョンのデータを呼び出そうとしたとき、「最新のものと置き換える」メッセージが出る。</td>\n",
              "    </tr>\n",
              "    <tr>\n",
              "      <th>21</th>\n",
              "      <td>「送る」にて問題として等しい名前が出てくる。</td>\n",
              "    </tr>\n",
              "    <tr>\n",
              "      <th>22</th>\n",
              "      <td>アセンブリファイルを読み込むと一部のファイル(SmarTeamの標準部品と置換）がロードされない。</td>\n",
              "    </tr>\n",
              "    <tr>\n",
              "      <th>23</th>\n",
              "      <td>CATIAプロダクトを図面に落とし、フィレットのオプションを元のエッジにするとコマンド割り込...</td>\n",
              "    </tr>\n",
              "    <tr>\n",
              "      <th>24</th>\n",
              "      <td>ファイルコピー時に送り場所を変更したい。</td>\n",
              "    </tr>\n",
              "    <tr>\n",
              "      <th>25</th>\n",
              "      <td>SmarTeamへ重複したファイルを登録してしまった場合の削除方法。</td>\n",
              "    </tr>\n",
              "    <tr>\n",
              "      <th>26</th>\n",
              "      <td>ドキュメントファイルのプロジェクト変更。</td>\n",
              "    </tr>\n",
              "    <tr>\n",
              "      <th>27</th>\n",
              "      <td>MCのデータをDXFに変換してスケッチにコピーし、余分な要素を削除しようとしたら「Undo ...</td>\n",
              "    </tr>\n",
              "    <tr>\n",
              "      <th>28</th>\n",
              "      <td>スケッチで、離れた位置にある形状を原点に位置あわせしたい</td>\n",
              "    </tr>\n",
              "    <tr>\n",
              "      <th>29</th>\n",
              "      <td>自由度解析を行ったとき、「お勧めできるソリューションはありません」というメッセージが出る。添...</td>\n",
              "    </tr>\n",
              "    <tr>\n",
              "      <th>30</th>\n",
              "      <td>既存の部品を分割して別々のファイルに分けたい</td>\n",
              "    </tr>\n",
              "    <tr>\n",
              "      <th>31</th>\n",
              "      <td>「送る」にて、大量のJPEGファイルがリストされる。</td>\n",
              "    </tr>\n",
              "    <tr>\n",
              "      <th>32</th>\n",
              "      <td>リンクのあるデータをSmarTeamから呼び出すと、リンクが切れていた。</td>\n",
              "    </tr>\n",
              "    <tr>\n",
              "      <th>33</th>\n",
              "      <td>形状を別のパートにリンク貼り付けしようとしたが、「形式を選択して貼り付け」を選んでも、ウィン...</td>\n",
              "    </tr>\n",
              "    <tr>\n",
              "      <th>34</th>\n",
              "      <td>スケッチを編集しようとしたが、寸法値が表示されない</td>\n",
              "    </tr>\n",
              "    <tr>\n",
              "      <th>35</th>\n",
              "      <td>CATIAの図面データをMCに変換したら一部分の投影図が変換されていない</td>\n",
              "    </tr>\n",
              "    <tr>\n",
              "      <th>36</th>\n",
              "      <td>「送る」にて問題として等しい名前が出てくる。</td>\n",
              "    </tr>\n",
              "    <tr>\n",
              "      <th>37</th>\n",
              "      <td>Wドライブで作成していたプロダクトファイルの中の標準部品とSmarTeamの標準部品を置換す...</td>\n",
              "    </tr>\n",
              "    <tr>\n",
              "      <th>38</th>\n",
              "      <td>SmarTeamに登録済みのパートを利用し派生パートを作成した際、「SmarTeam保存」の...</td>\n",
              "    </tr>\n",
              "    <tr>\n",
              "      <th>39</th>\n",
              "      <td>トップアセンブリのSmarTeamビューア用ファイルがメモリ不足のため更新されない。</td>\n",
              "    </tr>\n",
              "    <tr>\n",
              "      <th>40</th>\n",
              "      <td>球面同士の拘束方法について</td>\n",
              "    </tr>\n",
              "    <tr>\n",
              "      <th>41</th>\n",
              "      <td>アセンブリを保存しようとすると、その中のパートが「アクセスが拒否されました」とメッセージが出る</td>\n",
              "    </tr>\n",
              "    <tr>\n",
              "      <th>42</th>\n",
              "      <td>フィレットをかけようとしたがエッジが選択できず、「今後認識されません」とメッセージが出る</td>\n",
              "    </tr>\n",
              "    <tr>\n",
              "      <th>43</th>\n",
              "      <td>スケッチのサポート平面を変更しているときに、表示方向（側面、平面等）を変更すると、平面が属す...</td>\n",
              "    </tr>\n",
              "    <tr>\n",
              "      <th>44</th>\n",
              "      <td>チェックインしようとしたとき、SmarTeam保存が終了した後に、「Line #824 メソ...</td>\n",
              "    </tr>\n",
              "    <tr>\n",
              "      <th>45</th>\n",
              "      <td>stepファイルが送られてきたが、CATIAで見れるのか？</td>\n",
              "    </tr>\n",
              "    <tr>\n",
              "      <th>46</th>\n",
              "      <td>測定したときに最短距離ではなく、高さ（Z方向）方向の距離を見たい</td>\n",
              "    </tr>\n",
              "    <tr>\n",
              "      <th>47</th>\n",
              "      <td>保存しようとすると、「データが欠落しています。保存できません。」とメッセージが出る。</td>\n",
              "    </tr>\n",
              "    <tr>\n",
              "      <th>48</th>\n",
              "      <td>チェックインしようとすると、「ファイル名に一意性が無い」とメッセージが出る</td>\n",
              "    </tr>\n",
              "    <tr>\n",
              "      <th>49</th>\n",
              "      <td>SmarTeamのビューワーを見たとき、形状が更新されていない。</td>\n",
              "    </tr>\n",
              "  </tbody>\n",
              "</table>\n",
              "</div>"
            ],
            "text/plain": [
              "        トップアッシに新規サブアッシを追加後、CGR置換すると追加したアセンブリが表示されなくなる\n",
              "0                            リンク部品の柔剛サブアセンブリがうまく動作しない\n",
              "1                      干渉チェック時に、「接触」のはずなのに、「干渉」と認識される\n",
              "2                                    ツリーに「ルールベース」ができた\n",
              "3                                 抜き勾配のついた形状をモデリングしたい\n",
              "4                               複数セクションサーフェスで面が作成できない\n",
              "5                        あるモデルで抽出時に、ツリーアイコンに「F」マークがつく\n",
              "6       海外取引先からCATIAデータが送られてきたがバージョンが異なるので読み込むことができない\n",
              "7                           展開形状にて寸法指示のある部品の展開形状の作成方法\n",
              "8                               グリップの形状にてスイープ面にエッジが立つ\n",
              "9                             ボディをコピーすると、貼り付けエラーが発生する\n",
              "10                     干渉チェック時に、「接触」のはずなのに、「干渉」と認識される\n",
              "11                                モデル編集後、ブール演算ができなくなた\n",
              "12                                      ソリッド形状が表示されない\n",
              "13                                   チェックインしようとしたらエラー\n",
              "14  新規で作成したものをチェックインしようとしたら「すでに存在する」とメッセージが出る。続行ボタ...\n",
              "15             「ローカルファイル保持」をしていないのにworkフォルダにデータが残っている\n",
              "16                                  「送る」にて、コピーエラーが出る。\n",
              "17                  「送る」にて、”名前が重複している”と問題欄に出て、コピーできない\n",
              "18                          取引先から、satにてデータがきたが、読み込めるか\n",
              "19                            cgrファイルの中にパーツが作成できてしまった\n",
              "20      古いリビジョンのデータを呼び出そうとしたとき、「最新のものと置き換える」メッセージが出る。\n",
              "21                             「送る」にて問題として等しい名前が出てくる。\n",
              "22  アセンブリファイルを読み込むと一部のファイル(SmarTeamの標準部品と置換）がロードされない。\n",
              "23  CATIAプロダクトを図面に落とし、フィレットのオプションを元のエッジにするとコマンド割り込...\n",
              "24                               ファイルコピー時に送り場所を変更したい。\n",
              "25                 SmarTeamへ重複したファイルを登録してしまった場合の削除方法。\n",
              "26                               ドキュメントファイルのプロジェクト変更。\n",
              "27  MCのデータをDXFに変換してスケッチにコピーし、余分な要素を削除しようとしたら「Undo ...\n",
              "28                       スケッチで、離れた位置にある形状を原点に位置あわせしたい\n",
              "29  自由度解析を行ったとき、「お勧めできるソリューションはありません」というメッセージが出る。添...\n",
              "30                             既存の部品を分割して別々のファイルに分けたい\n",
              "31                         「送る」にて、大量のJPEGファイルがリストされる。\n",
              "32               リンクのあるデータをSmarTeamから呼び出すと、リンクが切れていた。\n",
              "33  形状を別のパートにリンク貼り付けしようとしたが、「形式を選択して貼り付け」を選んでも、ウィン...\n",
              "34                          スケッチを編集しようとしたが、寸法値が表示されない\n",
              "35               CATIAの図面データをMCに変換したら一部分の投影図が変換されていない\n",
              "36                             「送る」にて問題として等しい名前が出てくる。\n",
              "37  Wドライブで作成していたプロダクトファイルの中の標準部品とSmarTeamの標準部品を置換す...\n",
              "38  SmarTeamに登録済みのパートを利用し派生パートを作成した際、「SmarTeam保存」の...\n",
              "39         トップアセンブリのSmarTeamビューア用ファイルがメモリ不足のため更新されない。\n",
              "40                                      球面同士の拘束方法について\n",
              "41    アセンブリを保存しようとすると、その中のパートが「アクセスが拒否されました」とメッセージが出る\n",
              "42       フィレットをかけようとしたがエッジが選択できず、「今後認識されません」とメッセージが出る\n",
              "43  スケッチのサポート平面を変更しているときに、表示方向（側面、平面等）を変更すると、平面が属す...\n",
              "44  チェックインしようとしたとき、SmarTeam保存が終了した後に、「Line #824 メソ...\n",
              "45                      stepファイルが送られてきたが、CATIAで見れるのか？\n",
              "46                   測定したときに最短距離ではなく、高さ（Z方向）方向の距離を見たい\n",
              "47         保存しようとすると、「データが欠落しています。保存できません。」とメッセージが出る。\n",
              "48              チェックインしようとすると、「ファイル名に一意性が無い」とメッセージが出る\n",
              "49                   SmarTeamのビューワーを見たとき、形状が更新されていない。"
            ]
          },
          "metadata": {
            "tags": []
          },
          "execution_count": 32
        }
      ]
    },
    {
      "cell_type": "code",
      "metadata": {
        "id": "LOPV-yNIrIQ8",
        "colab_type": "code",
        "colab": {}
      },
      "source": [
        "import re\n",
        "import pickle\n",
        "from janome.tokenizer import Tokenizer\n",
        "\n",
        "with open(\"problem.txt\", mode=\"r\", encoding=\"utf-8\") as f:  # ファイルの読み込み\n",
        "    qa_original = f.read()\n",
        "\n",
        "qa = re.sub(\"《[^》]+》\", \"\", qa_original) # ルビの削除\n",
        "qa = re.sub(\"［[^］]+］\", \"\", qa) # 読みの注意の削除\n",
        "qa = re.sub(\"[｜ 　「」]\", \"\", qa) # | と全角半角スペース、「」と改行の削除\n",
        "qa = re.sub(\"-+\", \"\", qa)\n",
        "\n",
        "seperator = \"\\n\"  # 。をセパレータに指定\n",
        "qa_list = qa.split(seperator)  # セパレーターを使って文章をリストに分割する\n",
        "qa_list.pop() # 最後の要素は空の文字列になるので、削除\n",
        "# qa_list = [x+seperator for x in qa_list]  # 文章の最後に。を追加\n",
        "        \n",
        "t = Tokenizer()\n",
        "\n",
        "qa_words = []\n",
        "for sentence in qa_list:\n",
        "    qa_words.append(t.tokenize(sentence, wakati=True))   # 文章ごとに単語に分割し、リストに格納\n",
        "    \n",
        "with open('qa_words.pickle', mode='wb') as f:  # pickleに保存\n",
        "    pickle.dump(qa_words, f)"
      ],
      "execution_count": 0,
      "outputs": []
    },
    {
      "cell_type": "markdown",
      "metadata": {
        "id": "GLkzi7dmnkUz",
        "colab_type": "text"
      },
      "source": [
        "## データの読み込み\n",
        "以前に作成したデータの読み込みを行います。"
      ]
    },
    {
      "cell_type": "code",
      "metadata": {
        "id": "BC3IC7_InkU1",
        "colab_type": "code",
        "colab": {}
      },
      "source": [
        "import pickle\n",
        "\n",
        "with open('wagahai_words.pickle', mode='rb') as f:\n",
        "    wagahai_words = pickle.load(f)\n",
        "\n",
        "print(wagahai_words)"
      ],
      "execution_count": 0,
      "outputs": []
    },
    {
      "cell_type": "markdown",
      "metadata": {
        "id": "xvlgfPIGnkU9",
        "colab_type": "text"
      },
      "source": [
        "## doc2vecによる学習\n",
        "doc2vecを使って学習を行い、モデルを作成します。"
      ]
    },
    {
      "cell_type": "code",
      "metadata": {
        "id": "ta3kI-w1nkU-",
        "colab_type": "code",
        "colab": {}
      },
      "source": [
        "from gensim.models.doc2vec import Doc2Vec\n",
        "from gensim.models.doc2vec import TaggedDocument\n",
        "\n",
        "tagged_documents = []\n",
        "for i, sentence in enumerate(wagahai_words):\n",
        "    tagged_documents.append(TaggedDocument(sentence, [i]))  # TaggedDocument型のオブジェクトをリストに格納\n",
        "\n",
        "# size：分散表現の次元数\n",
        "# window：対象単語を中心とした前後の単語数\n",
        "# min_count：学習に使う単語の最低出現回数\n",
        "# epochs:epochs数\n",
        "# dm：学習モデル=DBOW（デフォルトはdm=1で、学習モデルはDM）\n",
        "model = Doc2Vec(documents=tagged_documents,\n",
        "                vector_size=100,\n",
        "                min_count=5,\n",
        "                window=5,\n",
        "                epochs=20,\n",
        "                dm=0)"
      ],
      "execution_count": 0,
      "outputs": []
    },
    {
      "cell_type": "markdown",
      "metadata": {
        "id": "3muX4hmrnkVE",
        "colab_type": "text"
      },
      "source": [
        "## 文章のベクトル\n",
        "最初の文章のベクトルを表示します。"
      ]
    },
    {
      "cell_type": "code",
      "metadata": {
        "id": "zAxoYPrBnkVd",
        "colab_type": "code",
        "colab": {}
      },
      "source": [
        "print(wagahai_words[0])  # 最初の文章を表示\n",
        "print(model.docvecs[0])  # 最初の文章のベクトル"
      ],
      "execution_count": 0,
      "outputs": []
    },
    {
      "cell_type": "markdown",
      "metadata": {
        "id": "YVHGCST-nkVg",
        "colab_type": "text"
      },
      "source": [
        "## 文章の類似度\n",
        "最も類似度の高い文章のIDと類似度を表示します。"
      ]
    },
    {
      "cell_type": "code",
      "metadata": {
        "id": "t82Az6MFnkVh",
        "colab_type": "code",
        "colab": {}
      },
      "source": [
        "print(model.docvecs.most_similar(0))"
      ],
      "execution_count": 0,
      "outputs": []
    },
    {
      "cell_type": "code",
      "metadata": {
        "id": "yIKsX5h0nkVl",
        "colab_type": "code",
        "colab": {}
      },
      "source": [
        "for p in model.docvecs.most_similar(0):\n",
        "    print(wagahai_words[p[0]])"
      ],
      "execution_count": 0,
      "outputs": []
    },
    {
      "cell_type": "markdown",
      "metadata": {
        "id": "55jJIoEFnkVo",
        "colab_type": "text"
      },
      "source": [
        "類似度の高い文章が表示されました。  \n",
        "doc2vecにより、文書全体の類似度を計算することも可能です。"
      ]
    },
    {
      "cell_type": "markdown",
      "metadata": {
        "id": "RH1xQdRRnkVp",
        "colab_type": "text"
      },
      "source": [
        "## 課題:\n",
        "wagahai_wordsの中の適当な文章と、類似度の高い文章を表示してみましょう。"
      ]
    },
    {
      "cell_type": "code",
      "metadata": {
        "id": "Trq_iRiTnkVq",
        "colab_type": "code",
        "colab": {}
      },
      "source": [
        ""
      ],
      "execution_count": 0,
      "outputs": []
    }
  ]
}